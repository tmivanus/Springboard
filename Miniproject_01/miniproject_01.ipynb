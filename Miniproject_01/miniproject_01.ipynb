{
 "cells": [
  {
   "cell_type": "markdown",
   "metadata": {},
   "source": [
    "Using data in file 'data/world_bank_projects.json':\n",
    "<br>1. Find the 10 countries with most projects\n",
    "<br>2. Find the top 10 major project themes (using column 'mjtheme_namecode')\n",
    "<br>3. In 2. above you will notice that some entries have only the code and the name is missing. Create a dataframe with the missing names filled in."
   ]
  },
  {
   "cell_type": "code",
   "execution_count": null,
   "metadata": {},
   "outputs": [],
   "source": [
    "## import modules.\n",
    "import numpy as np\n",
    "import pandas as pd\n",
    "import json\n",
    "from pandas.io.json import json_normalize\n",
    "\n",
    "## loading data for the problems.\n",
    "with open('data\\\\world_bank_projects.json') as json_file:\n",
    "    json_data = json.load(json_file)\n",
    "\n",
    "## use normalization to create tables from nested element.\n",
    "table = json_normalize(json_data)\n",
    "\n",
    "## table overview.\n",
    "print(table.info())\n",
    "print(list(table.columns.values))"
   ]
  },
  {
   "cell_type": "code",
   "execution_count": null,
   "metadata": {},
   "outputs": [],
   "source": [
    "## exercise 1.\n",
    "## table for exercise 1: table_ex1.\n",
    "table_ex1 = pd.DataFrame(table[['countryname','project_name']]).sort_values(by=['countryname'])\n",
    "print(table_ex1.info())\n",
    "print(table_ex1.describe())\n",
    "\n",
    "## 'project_name' has 500 unique values, but let's check for duplicates anyway...\n",
    "duplicate_projects = table_ex1[table_ex1['project_name'].duplicated()]\n",
    "\n",
    "## if no duplicates, count countries in 'countryname': ex1.\n",
    "if duplicate_projects.empty:\n",
    "    ex1 = table_ex1['countryname'].value_counts().sort_values(ascending=False)\n",
    "    print('\\n' + 'The 10 countries with most projects are...')\n",
    "    print(ex1.head(10))\n",
    "else:\n",
    "    print('Attention! Duplicates!')"
   ]
  },
  {
   "cell_type": "code",
   "execution_count": null,
   "metadata": {},
   "outputs": [],
   "source": [
    "## exercise 2.\n",
    "## table for exercise 2: table_ex2.\n",
    "table_ex2 = json_normalize(json_data, 'mjtheme_namecode', ['countryname','project_name'])\n",
    "print(table_ex2.info())\n",
    "print(table_ex2[['code', 'name']].describe())\n",
    "print('Weird, \"code\" has 11 but \"name\" has 12 unique values...')\n",
    "\n",
    "## counting codes in 'code': ex2_code.\n",
    "ex2_code = table_ex2['code'].value_counts().sort_values(ascending=False)\n",
    "print('\\n' + 'According to \"code\", the top 10 major project themes are...')\n",
    "print(ex2_code.head(10))\n",
    "\n",
    "## counting names in 'name': ex2_name.\n",
    "ex2_name = table_ex2['name'].value_counts().sort_values(ascending=False)\n",
    "print('\\n' + 'But according to \"name\", the top 10 major project themes are...')\n",
    "print(ex2_name.head(10))\n",
    "\n",
    "## filtering results to show missing names and counting them by code: ex2_missing.\n",
    "ex2_missname = table_ex2[table_ex2['name'] == ''][['name', 'code']]\n",
    "print('\\n' + 'Attention! Missing names!')\n",
    "print(ex2_missname.groupby(['code']).count())"
   ]
  },
  {
   "cell_type": "code",
   "execution_count": null,
   "metadata": {},
   "outputs": [],
   "source": [
    "## exercise 3.\n",
    "## changing type of 'code' for int in table_ex2 and identifying code of each name: name_code.\n",
    "table_ex2['code'] = table_ex2['code'].astype(int)\n",
    "name_code = table_ex2[['name', 'code']].groupby(['name']).mean()\n",
    "print(name_code)\n",
    "\n",
    "## identifying name of each code: code_name.\n",
    "code_name = name_code.reset_index().set_index('code')\n",
    "print(code_name)\n",
    "\n",
    "## transposing code_name and converting it to dictionay: code_dict.\n",
    "code_dict = code_name.T.to_dict(orient='records')[0]\n",
    "print(code_dict)\n",
    "\n",
    "## table for exercise 3: table_ex3.\n",
    "table_ex3 = table_ex2\n",
    "\n",
    "## using code_dict to substitute missing names in 'name' (slower solution).\n",
    "for [i, name, code] in zip(table_ex3.index, table_ex3['name'], table_ex3['code']):\n",
    "    if name == '':\n",
    "        table_ex3['name'][i] = code_dict[code]\n",
    "\n",
    "## using code_dict to substitute missing names in 'name' (faster solution).       \n",
    "#for code in code_dict:\n",
    "#    table_ex3.name[table_ex3.code == code] = code_dict[code]\n",
    "        \n",
    "## counting codes in 'code': ex3_code.\n",
    "ex3_code = table_ex3['code'].value_counts().sort_values(ascending=False)\n",
    "print('\\n' + 'According to \"code\", the top 10 major project themes are...')\n",
    "print(ex3_code.head(10))\n",
    "\n",
    "## counting names in 'name': ex3_code.\n",
    "ex3_name = table_ex3['name'].value_counts().sort_values(ascending=False)\n",
    "print('\\n' + 'And according to \"name\", the top 10 major project themes are...')\n",
    "print(ex3_name.head(10))"
   ]
  },
  {
   "cell_type": "code",
   "execution_count": null,
   "metadata": {},
   "outputs": [],
   "source": []
  }
 ],
 "metadata": {
  "kernelspec": {
   "display_name": "Python 3",
   "language": "python",
   "name": "python3"
  },
  "language_info": {
   "codemirror_mode": {
    "name": "ipython",
    "version": 3
   },
   "file_extension": ".py",
   "mimetype": "text/x-python",
   "name": "python",
   "nbconvert_exporter": "python",
   "pygments_lexer": "ipython3",
   "version": "3.7.3"
  }
 },
 "nbformat": 4,
 "nbformat_minor": 2
}
