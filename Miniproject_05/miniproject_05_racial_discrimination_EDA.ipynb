{
 "cells": [
  {
   "cell_type": "markdown",
   "metadata": {},
   "source": [
    "# Examining Racial Discrimination in the US Job Market\n",
    "\n",
    "### Background\n",
    "Racial discrimination continues to be pervasive in cultures throughout the world. Researchers examined the level of racial discrimination in the United States labor market by randomly assigning identical résumés to black-sounding or white-sounding names and observing the impact on requests for interviews from employers.\n",
    "\n",
    "### Data\n",
    "In the dataset provided, each row represents a resume. The 'race' column has two values, 'b' and 'w', indicating black-sounding and white-sounding. The column 'call' has two values, 1 and 0, indicating whether the resume received a call from employers or not.\n",
    "\n",
    "Note that the 'b' and 'w' values in race are assigned randomly to the resumes when presented to the employer."
   ]
  },
  {
   "cell_type": "markdown",
   "metadata": {},
   "source": [
    "### Exercises\n",
    "You will perform a statistical analysis to establish whether race has a significant impact on the rate of callbacks for resumes.\n",
    "\n",
    "Answer the following questions **in this notebook below and submit to your Github account**. \n",
    "\n",
    "   1. What test is appropriate for this problem? Does CLT apply?\n",
    "   2. What are the null and alternate hypotheses?\n",
    "   3. Compute margin of error, confidence interval, and p-value. Try using both the bootstrapping and the frequentist statistical approaches.\n",
    "   4. Write a story describing the statistical significance in the context or the original problem.\n",
    "   5. Does your analysis mean that race/name is the most important factor in callback success? Why or why not? If not, how would you amend your analysis?\n",
    "\n",
    "You can include written notes in notebook cells using Markdown: \n",
    "   - In the control panel at the top, choose Cell > Cell Type > Markdown\n",
    "   - Markdown syntax: http://nestacms.com/docs/creating-content/markdown-cheat-sheet\n",
    "\n",
    "#### Resources\n",
    "+ Experiment information and data source: http://www.povertyactionlab.org/evaluation/discrimination-job-market-united-states\n",
    "+ Scipy statistical methods: http://docs.scipy.org/doc/scipy/reference/stats.html \n",
    "+ Markdown syntax: http://nestacms.com/docs/creating-content/markdown-cheat-sheet\n",
    "+ Formulas for the Bernoulli distribution: https://en.wikipedia.org/wiki/Bernoulli_distribution"
   ]
  },
  {
   "cell_type": "code",
   "execution_count": 1,
   "metadata": {},
   "outputs": [],
   "source": [
    "import pandas as pd\n",
    "import numpy as np\n",
    "from scipy import stats"
   ]
  },
  {
   "cell_type": "code",
   "execution_count": 2,
   "metadata": {},
   "outputs": [
    {
     "name": "stdout",
     "output_type": "stream",
     "text": [
      "  id ad  education  ofjobs  yearsexp  honors  volunteer  military  empholes  \\\n",
      "0  b  1          4       2         6       0          0         0         1   \n",
      "1  b  1          3       3         6       0          1         1         0   \n",
      "2  b  1          4       1         6       0          0         0         0   \n",
      "3  b  1          3       4         6       0          1         0         1   \n",
      "4  b  1          3       3        22       0          0         0         0   \n",
      "\n",
      "   occupspecific  ...  compreq  orgreq  manuf  transcom  bankreal trade  \\\n",
      "0             17  ...      1.0     0.0    1.0       0.0       0.0   0.0   \n",
      "1            316  ...      1.0     0.0    1.0       0.0       0.0   0.0   \n",
      "2             19  ...      1.0     0.0    1.0       0.0       0.0   0.0   \n",
      "3            313  ...      1.0     0.0    1.0       0.0       0.0   0.0   \n",
      "4            313  ...      1.0     1.0    0.0       0.0       0.0   0.0   \n",
      "\n",
      "  busservice othservice  missind  ownership  \n",
      "0        0.0        0.0      0.0             \n",
      "1        0.0        0.0      0.0             \n",
      "2        0.0        0.0      0.0             \n",
      "3        0.0        0.0      0.0             \n",
      "4        0.0        1.0      0.0  Nonprofit  \n",
      "\n",
      "[5 rows x 65 columns]\n"
     ]
    }
   ],
   "source": [
    "data = pd.io.stata.read_stata('data/us_job_market_discrimination.dta')\n",
    "print(data.head())"
   ]
  },
  {
   "cell_type": "code",
   "execution_count": 3,
   "metadata": {},
   "outputs": [
    {
     "name": "stdout",
     "output_type": "stream",
     "text": [
      "Do w and b have the same number of observations? True\n",
      "\n",
      "number of callbacks for white-sounding names: 235.0\n",
      "number of observations for white-sounding names: 2435\n",
      "rate of callbacks for white-sounding names: 0.09650924024640657\n",
      "\n",
      "number of callbacks for black-sounding names: 157.0\n",
      "number of observations for black-sounding names: 2435\n",
      "rate of callbacks for white-sounding names: 0.06447638603696099\n"
     ]
    }
   ],
   "source": [
    "w = data[data.race=='w']\n",
    "b = data[data.race=='b']\n",
    "print('Do w and b have the same number of observations?',len(w)==len(b))\n",
    "\n",
    "total_callbacks_w = sum(w.call)\n",
    "total_obs_w = len(w.call)\n",
    "rate_callbacks_w = total_callbacks_w/total_obs_w\n",
    "\n",
    "total_callbacks_b = sum(b.call)\n",
    "total_obs_b = len(b.call)\n",
    "rate_callbacks_b = total_callbacks_b/total_obs_b\n",
    "\n",
    "print('\\nnumber of callbacks for white-sounding names:',total_callbacks_w)\n",
    "print('number of observations for white-sounding names:',total_obs_w)\n",
    "print('rate of callbacks for white-sounding names:',rate_callbacks_w)\n",
    "\n",
    "print('\\nnumber of callbacks for black-sounding names:',total_callbacks_b)\n",
    "print('number of observations for black-sounding names:',total_obs_b)\n",
    "print('rate of callbacks for white-sounding names:',rate_callbacks_b)"
   ]
  },
  {
   "cell_type": "markdown",
   "metadata": {
    "collapsed": true
   },
   "source": [
    "1-) What test is appropriate for this problem? Does CLT apply?  \n",
    "I would use bootstrap to test if callbacks for white and black-sounding names come from the same distribution. Also, if the rates of callbacks for white and black-sounding names are the same. CLT should apply since total observations for each group is 2435, much larger than 30.\n",
    "\n",
    "2-) What are the null and alternate hypotheses?  \n",
    "First test:  \n",
    "H0: callbacks for white and black-sounding names come from the same distribution.  \n",
    "H1: they come from different distributions.  \n",
    "Second test:  \n",
    "H0: the rates of callbacks for white and black-sounding names are the same.  \n",
    "H1: they are different."
   ]
  },
  {
   "cell_type": "code",
   "execution_count": 4,
   "metadata": {},
   "outputs": [
    {
     "name": "stdout",
     "output_type": "stream",
     "text": [
      "H0: callbacks for w and b-sounding names come from the same distribution.\n",
      "Procedure using bootstrap and permutation.\n",
      "p-value = 0.0\n",
      "H0 is rejected.\n"
     ]
    }
   ],
   "source": [
    "## 3-) H0: callbacks for white and black-sounding names come from the same distribution.\n",
    "##     H1: they come from different distributions.\n",
    "\n",
    "def permutation_sample(data1, data2):\n",
    "    data = np.concatenate((data1, data2))\n",
    "    permuted_data = np.random.permutation(data)\n",
    "    perm_sample_1 = permuted_data[:len(data1)]\n",
    "    perm_sample_2 = permuted_data[len(data1):]\n",
    "    return perm_sample_1, perm_sample_2\n",
    "\n",
    "def draw_perm_reps(data_1, data_2, func, size=1):\n",
    "    perm_replicates = np.empty(size)\n",
    "    for i in range(size):\n",
    "        perm_sample_1, perm_sample_2 = permutation_sample(data_1, data_2)\n",
    "        perm_replicates[i] = func(perm_sample_1, perm_sample_2)\n",
    "    return perm_replicates\n",
    "\n",
    "def rate_of_ones(data):\n",
    "    return sum(data)/len(data)\n",
    "\n",
    "def diff_rates_of_ones(data_1, data_2):\n",
    "    diff = rate_of_ones(data_1) - rate_of_ones(data_2)\n",
    "    return diff\n",
    "\n",
    "np.random.seed(10)\n",
    "empirical_diff_rates = diff_rates_of_ones(w.call, b.call)\n",
    "perm_replicates = draw_perm_reps(w.call, b.call,\n",
    "                                 diff_rates_of_ones, size=10000)\n",
    "\n",
    "p = np.sum(perm_replicates >= empirical_diff_rates)/len(perm_replicates)\n",
    "print('H0: callbacks for w and b-sounding names come from the same distribution.')\n",
    "print('Procedure using bootstrap and permutation.')\n",
    "print('p-value =', p)\n",
    "print('H0 is rejected.')"
   ]
  },
  {
   "cell_type": "code",
   "execution_count": 5,
   "metadata": {},
   "outputs": [
    {
     "name": "stdout",
     "output_type": "stream",
     "text": [
      "H0: the rates of callbacks for w and b-sounding names are the same.\n",
      "Procedure using bootstrap and 95% confidence intervals.\n",
      "95% confidence interval for rate of callbacks (w) = [0.08501027 0.10841889]\n",
      "95% confidence interval for rate of callbacks (b) = [0.0550308  0.07433265]\n",
      "Intervals do not overlap each other.\n",
      "H0 is rejected.\n",
      "\n",
      "H0: the rates of callbacks for w and b-sounding names are the same.\n",
      "Procedure using bootstrap and p-value for difference <= 0.\n",
      "p-value = 0.0\n",
      "H0 is rejected.\n",
      "Procedure using bootstrap and p-value for difference <= 0.018.\n",
      "p-value = 0.0384\n",
      "H0 is rejected.\n",
      "\n",
      "How big the difference could be?\n",
      "Procedure using bootstrap and p-value for difference >= 0.045.\n",
      "p-value = 0.0506\n",
      "H0 is rejected.\n"
     ]
    }
   ],
   "source": [
    "## 3-) H0: the rates of callbacks for white and black-sounding names are the same.\n",
    "##     H1: they are different.\n",
    "\n",
    "def bootstrap_replicate_1d(data, func): \n",
    "    return func(np.random.choice(data, len(data)))\n",
    "\n",
    "def draw_bs_reps(data, func, size=1):\n",
    "    return np.array([bootstrap_replicate_1d(data, func) for _ in range(size)])\n",
    "\n",
    "def rate_of_ones(data):\n",
    "    return sum(data)/len(data)\n",
    "\n",
    "bs_replicates_w = draw_bs_reps(w.call, rate_of_ones, size=10000)\n",
    "bs_replicates_b = draw_bs_reps(b.call, rate_of_ones, size=10000)\n",
    "conf_int_95_w = np.percentile(bs_replicates_w, [2.5, 97.5])\n",
    "conf_int_95_b = np.percentile(bs_replicates_b, [2.5, 97.5])\n",
    "print('H0: the rates of callbacks for w and b-sounding names are the same.')\n",
    "print('Procedure using bootstrap and 95% confidence intervals.')\n",
    "print('95% confidence interval for rate of callbacks (w) =', conf_int_95_w)\n",
    "print('95% confidence interval for rate of callbacks (b) =', conf_int_95_b)\n",
    "print('Intervals do not overlap each other.')\n",
    "print('H0 is rejected.')\n",
    "\n",
    "## Alternative procedure.\n",
    "bs_replicates = bs_replicates_w - bs_replicates_b\n",
    "hypothetical_diff_rates = 0\n",
    "p = np.sum(bs_replicates <= hypothetical_diff_rates)/len(bs_replicates)\n",
    "print('\\nH0: the rates of callbacks for w and b-sounding names are the same.')\n",
    "print('Procedure using bootstrap and p-value for difference <= 0.')\n",
    "print('p-value =', p)\n",
    "print('H0 is rejected.')\n",
    "\n",
    "hypothetical_diff_rates = 0.018\n",
    "p = np.sum(bs_replicates <= hypothetical_diff_rates)/len(bs_replicates)\n",
    "print('Procedure using bootstrap and p-value for difference <= 0.018.')\n",
    "print('p-value =', p)\n",
    "print('H0 is rejected.')\n",
    "\n",
    "## Checking how big that difference could be.\n",
    "hypothetical_diff_rates = 0.045\n",
    "p = np.sum(bs_replicates >= hypothetical_diff_rates)/len(bs_replicates)\n",
    "print('\\nHow big the difference could be?')\n",
    "print('Procedure using bootstrap and p-value for difference >= 0.045.')\n",
    "print('p-value =', p)\n",
    "print('H0 is rejected.')"
   ]
  },
  {
   "cell_type": "markdown",
   "metadata": {},
   "source": [
    "4-) Write a story describing the statistical significance in the context or the original problem.  \n",
    "The empirical difference between the rates of callbacks for w and b-sounding names is 0.032. In order to know if that difference is in fact statistically significant, I made two tests using bootstrap. The first test had the following null hypothesis: callbacks for w and b-sounding names come from the same distribution. Using permutation, I could observe that the probability of getting a difference equal or higher than the empirical difference under the null hypothesis was very small, so I could reject that hypothesis. The second test had the following null hypothesis: the rates of callbacks for w and b-sounding names are the same. That is a less restrictive hypothesis because I am not saying that callbacks are coming from the same distribution. By comparing 95% confidence intervals for each rate, I could observe that those intervals don't overlap and so I could reject the null hypothesis. Moreover, by also simulating the chance of getting a difference equal or lower than 0, I could observe a very small probability that allowed me to reject the null hypothesis. As a matter of fact, even the probability of getting a difference equal or smaller than 0.018 is small enough to reject the null hypothesis. Therefore, there is a significant difference higher than zero between the rates of callbacks for w and b-sounding names, although that difference is most likely below 0.045. I don't have enough knowledge to say how big a difference must be to indicate racial bias. There is a difference suggesting racial bias nonetheless.\n",
    "\n",
    "5-) Does your analysis mean that race/name is the most important factor in callback success? Why or why not? If not, how would you amend your analysis?  \n",
    "Here I am only analyzing the possible effect of w and b-sounding names in callback success. Other factors may also play a role in determining the callback success or altering how the names affect it. Without taking those other factors into account (using multiple regression, for example), I cannot say which factor is more important."
   ]
  },
  {
   "cell_type": "code",
   "execution_count": null,
   "metadata": {},
   "outputs": [],
   "source": []
  }
 ],
 "metadata": {
  "kernelspec": {
   "display_name": "Python 3",
   "language": "python",
   "name": "python3"
  },
  "language_info": {
   "codemirror_mode": {
    "name": "ipython",
    "version": 3
   },
   "file_extension": ".py",
   "mimetype": "text/x-python",
   "name": "python",
   "nbconvert_exporter": "python",
   "pygments_lexer": "ipython3",
   "version": "3.7.3"
  }
 },
 "nbformat": 4,
 "nbformat_minor": 1
}
