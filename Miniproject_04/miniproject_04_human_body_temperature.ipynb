{
 "cells": [
  {
   "cell_type": "markdown",
   "metadata": {},
   "source": [
    "# What is the True Normal Human Body Temperature? \n",
    "\n",
    "#### Background\n",
    "\n",
    "The mean normal body temperature was held to be 37$^{\\circ}$C or 98.6$^{\\circ}$F for more than 120 years since it was first conceptualized and reported by Carl Wunderlich in a famous 1868 book. But, is this value statistically correct?"
   ]
  },
  {
   "cell_type": "markdown",
   "metadata": {},
   "source": [
    "<h3>Exercises</h3>\n",
    "\n",
    "<p>In this exercise, you will analyze a dataset of human body temperatures and employ the concepts of hypothesis testing, confidence intervals, and statistical significance.</p>\n",
    "\n",
    "<p>Answer the following questions <b>in this notebook below and submit to your Github account</b>.</p> \n",
    "\n",
    "<ol>\n",
    "<li>  Is the distribution of body temperatures normal? \n",
    "    <ul>\n",
    "    <li> Although this is not a requirement for the Central Limit Theorem to hold (read the introduction on Wikipedia's page about the CLT carefully: https://en.wikipedia.org/wiki/Central_limit_theorem), it gives us some peace of mind that the population may also be normally distributed if we assume that this sample is representative of the population.\n",
    "    <li> Think about the way you're going to check for the normality of the distribution. Graphical methods are usually used first, but there are also other ways: https://en.wikipedia.org/wiki/Normality_test\n",
    "    </ul>\n",
    "<li>  Is the sample size large? Are the observations independent?\n",
    "    <ul>\n",
    "    <li> Remember that this is a condition for the Central Limit Theorem, and hence the statistical tests we are using, to apply.\n",
    "    </ul>\n",
    "<li>  Is the true population mean really 98.6 degrees F?\n",
    "    <ul>\n",
    "    <li> First, try a bootstrap hypothesis test.\n",
    "    <li> Now, let's try frequentist statistical testing. Would you use a one-sample or two-sample test? Why?\n",
    "    <li> In this situation, is it appropriate to use the $t$ or $z$ statistic? \n",
    "    <li> Now try using the other test. How is the result be different? Why?\n",
    "    </ul>\n",
    "<li>  Draw a small sample of size 10 from the data and repeat both frequentist tests. \n",
    "    <ul>\n",
    "    <li> Which one is the correct one to use? \n",
    "    <li> What do you notice? What does this tell you about the difference in application of the $t$ and $z$ statistic?\n",
    "    </ul>\n",
    "<li>  At what temperature should we consider someone's temperature to be \"abnormal\"?\n",
    "    <ul>\n",
    "    <li> As in the previous example, try calculating everything using the boostrap approach, as well as the frequentist approach.\n",
    "    <li> Start by computing the margin of error and confidence interval. When calculating the confidence interval, keep in mind that you should use the appropriate formula for one draw, and not N draws.\n",
    "    </ul>\n",
    "<li>  Is there a significant difference between males and females in normal temperature?\n",
    "    <ul>\n",
    "    <li> What testing approach did you use and why?\n",
    "    <li> Write a story with your conclusion in the context of the original problem.\n",
    "    </ul>\n",
    "</ol>\n",
    "\n",
    "You can include written notes in notebook cells using Markdown: \n",
    "   - In the control panel at the top, choose Cell > Cell Type > Markdown\n",
    "   - Markdown syntax: http://nestacms.com/docs/creating-content/markdown-cheat-sheet\n",
    "\n",
    "#### Resources\n",
    "\n",
    "+ Information and data sources: http://www.amstat.org/publications/jse/datasets/normtemp.txt, http://www.amstat.org/publications/jse/jse_data_archive.htm\n",
    "+ Markdown syntax: http://nestacms.com/docs/creating-content/markdown-cheat-sheet\n",
    "\n",
    "****"
   ]
  },
  {
   "cell_type": "code",
   "execution_count": 1,
   "metadata": {},
   "outputs": [],
   "source": [
    "import pandas as pd\n",
    "import numpy as np\n",
    "import matplotlib.pyplot as plt\n",
    "import seaborn as sns\n",
    "from scipy import stats\n",
    "#%matplotlib inline"
   ]
  },
  {
   "cell_type": "code",
   "execution_count": 2,
   "metadata": {},
   "outputs": [
    {
     "name": "stdout",
     "output_type": "stream",
     "text": [
      "<class 'pandas.core.frame.DataFrame'>\n",
      "RangeIndex: 130 entries, 0 to 129\n",
      "Data columns (total 3 columns):\n",
      "temperature    130 non-null float64\n",
      "gender         130 non-null object\n",
      "heart_rate     130 non-null float64\n",
      "dtypes: float64(2), object(1)\n",
      "memory usage: 3.1+ KB\n",
      "None\n",
      "   temperature gender  heart_rate\n",
      "0         99.3      F        68.0\n",
      "1         98.4      F        81.0\n",
      "2         97.8      M        73.0\n",
      "3         99.2      F        66.0\n",
      "4         98.0      F        73.0\n",
      "       temperature  heart_rate\n",
      "count   130.000000  130.000000\n",
      "mean     98.249231   73.761538\n",
      "std       0.733183    7.062077\n",
      "min      96.300000   57.000000\n",
      "25%      97.800000   69.000000\n",
      "50%      98.300000   74.000000\n",
      "75%      98.700000   79.000000\n",
      "max     100.800000   89.000000\n"
     ]
    }
   ],
   "source": [
    "df = pd.read_csv('data/human_body_temperature.csv')\n",
    "print(df.info())\n",
    "print(df.head())\n",
    "print(df.describe())"
   ]
  },
  {
   "cell_type": "code",
   "execution_count": 3,
   "metadata": {},
   "outputs": [
    {
     "name": "stdout",
     "output_type": "stream",
     "text": [
      "Null hypothesis: x comes from a normal distribution.\n",
      "The null hypothesis cannot be rejected.\n"
     ]
    },
    {
     "data": {
      "image/png": "[encoded data removed]",
      "text/plain": [
       "<Figure size 432x288 with 1 Axes>"
      ]
     },
     "metadata": {},
     "output_type": "display_data"
    }
   ],
   "source": [
    "# 1-) Is the distribution of body temperatures normal?\n",
    "temp_obs = df.temperature.sort_values()\n",
    "number_bins = round(len(temp_obs)**(1/2)+0.5)\n",
    "width_bins = (max(temp_obs) - min(temp_obs))/number_bins\n",
    "bin_values = np.arange(min(temp_obs), max(temp_obs), width_bins)\n",
    "mu, std = temp_obs.mean(), temp_obs.std()\n",
    "temp_normal = stats.norm.pdf(temp_obs, mu, std)\n",
    "\n",
    "sns.set()\n",
    "_ = plt.hist(temp_obs, bins=bin_values, density=True)\n",
    "_ = plt.plot(temp_obs, temp_normal)\n",
    "_ = plt.xlabel('Temperature')\n",
    "_ = xticks = plt.xticks(np.arange(95.5,101.5,0.25),rotation=90)\n",
    "_ = plt.title(('Distribution of Temperature' +\n",
    "           '\\nMean: ' + str(round(mu, 2)) +\n",
    "           ', Std. Dev.: ' + str(round(std, 2))))\n",
    "plt.show\n",
    "\n",
    "k2, p = stats.normaltest(temp_obs)\n",
    "print('Null hypothesis: x comes from a normal distribution.')\n",
    "if p < 0.05:\n",
    "    print('The null hypothesis can be rejected.')\n",
    "else:\n",
    "    print('The null hypothesis cannot be rejected.')"
   ]
  },
  {
   "cell_type": "code",
   "execution_count": 4,
   "metadata": {},
   "outputs": [
    {
     "name": "stdout",
     "output_type": "stream",
     "text": [
      "Sample size is 130 which is larger than 30 and therefore sufficiently large.\n",
      "As long as observations are from 130 different and diverse individuals, observations should be independent.\n"
     ]
    }
   ],
   "source": [
    "# 2-) Is the sample size large? Are the observations independent? \n",
    "print('Sample size is', len(df), \n",
    "      'which is larger than 30 and therefore sufficiently large.')\n",
    "print('As long as observations are from', len(df), \n",
    "      'different and diverse individuals, observations should be independent.')"
   ]
  },
  {
   "cell_type": "code",
   "execution_count": 5,
   "metadata": {
    "scrolled": false
   },
   "outputs": [
    {
     "name": "stdout",
     "output_type": "stream",
     "text": [
      "H0: True Population Mean is 98.6 F.\n",
      "H1: True Population Mean is not 98.6 F.\n",
      "\n",
      "95% confidence interval for the mean from BS = [98.12461538 98.37615385]\n",
      "H0 is rejected.\n"
     ]
    },
    {
     "data": {
      "image/png": "[encoded data removed]",
      "text/plain": [
       "<Figure size 432x288 with 1 Axes>"
      ]
     },
     "metadata": {},
     "output_type": "display_data"
    },
    {
     "name": "stdout",
     "output_type": "stream",
     "text": [
      "One-sample test is used to compare results from a test to a “normal” population.\n",
      "We only have one sample anyway.\n",
      "We do not have the population std. dev. to produce z statistic.\n",
      "Therefore, we should use one-sample test and t statistic.\n",
      "The t statistic is -5.4548 and the p value is 0.0\n",
      "H0 is rejected.\n",
      "The z statistic is -5.4759 and the p value is 0.0\n",
      "The z uses standard normal, t uses t-distribution, shorter and flatter.\n",
      "H0 is rejected.\n"
     ]
    }
   ],
   "source": [
    "# 3-) Is the true population mean really 98.6 degrees F?\n",
    "#     First, try a bootstrap hypothesis test.\n",
    "print('H0: True Population Mean is 98.6 F.')\n",
    "print('H1: True Population Mean is not 98.6 F.')\n",
    "\n",
    "def bootstrap_replicate_1d(data, func): \n",
    "    return func(np.random.choice(data, len(data)))\n",
    "\n",
    "def draw_bs_reps(data, func, size=1):\n",
    "    return np.array([bootstrap_replicate_1d(data, func) for _ in range(size)])\n",
    "\n",
    "np.random.seed(10)\n",
    "bs_replicates = draw_bs_reps(temp_obs, np.mean, size=10000)\n",
    "conf_int_95 = np.percentile(bs_replicates, [2.5, 97.5])\n",
    "print('\\n95% confidence interval for the mean from BS =', conf_int_95)\n",
    "print('H0 is rejected.')\n",
    "\n",
    "_ = plt.hist(bs_replicates, bins=50, density=True)\n",
    "_ = plt.xlabel('Temperature')\n",
    "_ = plt.ylabel('PDF')\n",
    "plt.show()\n",
    "\n",
    "#     Frequentist statistical testing: would you use a one-sample or two-sample test? Why?\n",
    "#     In this situation, is it appropriate to use the t or z statistic?\n",
    "print('One-sample test is used to compare results from a test to a “normal” population.')\n",
    "print('We only have one sample anyway.')\n",
    "print('We do not have the population std. dev. to produce z statistic.')\n",
    "print('Therefore, we should use one-sample test and t statistic.')\n",
    "t, p_t = stats.ttest_1samp(temp_obs, 98.6)\n",
    "print('The t statistic is', round(t,4),'and the p value is', round(p_t,4))\n",
    "print('H0 is rejected.')\n",
    "\n",
    "#     Now try using the other test. How is the result be different? Why? \n",
    "sem = np.std(temp_obs)/np.sqrt(len(temp_obs))\n",
    "z = (np.mean(temp_obs) - 98.6)/sem\n",
    "p_z = stats.norm.cdf(z)\n",
    "print('The z statistic is', round(z,4),'and the p value is', round(p_z,4))\n",
    "print('The z uses standard normal, t uses t-distribution, shorter and flatter.')\n",
    "print('H0 is rejected.')"
   ]
  },
  {
   "cell_type": "code",
   "execution_count": 6,
   "metadata": {},
   "outputs": [
    {
     "name": "stdout",
     "output_type": "stream",
     "text": [
      "The t statistic is -1.3694 and the p value is 0.2041\n",
      "The z statistic is -1.4435 and the p value is 0.0744\n"
     ]
    }
   ],
   "source": [
    "# 4-) Draw a small sample of size 10 from the data and repeat both frequentist tests.\n",
    "#     Which one is the correct one to use?\n",
    "#     What do you notice? \n",
    "np.random.seed(10)\n",
    "sample_10 = np.random.choice(temp_obs, size=10)\n",
    "\n",
    "t, p_t = stats.ttest_1samp(sample_10, 98.6)\n",
    "print('The t statistic is', round(t,4),'and the p value is', round(p_t,4))\n",
    "\n",
    "sem = np.std(sample_10)/np.sqrt(len(sample_10))\n",
    "z = (np.mean(sample_10) - 98.6)/sem\n",
    "p_z = stats.norm.cdf(z)\n",
    "print('The z statistic is', round(z,4),'and the p value is', round(p_z,4))"
   ]
  },
  {
   "cell_type": "code",
   "execution_count": 7,
   "metadata": {},
   "outputs": [
    {
     "name": "stdout",
     "output_type": "stream",
     "text": [
      "Not taking into account medical guidelines, we can define outliers as \"abnormal\".\n",
      "We can use boxplot minimum and maximum to find outliers\n",
      "The boxplot minimum and maximum for our dataset is 96.555 and 99.875\n",
      "Thus, temperatures outside the range of 96.555 and 99.875 would be abnormal.\n",
      "We can find 95% confidence interval for them using bootstrap.\n",
      "95% confidence interval for the boxplot minimum from BS = [96.1  96.95]\n",
      "95% confidence interval for the boxplot maximum from BS = [ 99.525  100.2375]\n",
      "To be safe, we can consider the range 96.94999999999999 and 99.525\n"
     ]
    }
   ],
   "source": [
    "# 5-) At what temperature should we consider someone's temperature to be \"abnormal\"?\n",
    "print('Not taking into account medical guidelines, we can define outliers as \"abnormal\".')\n",
    "print('We can use boxplot minimum and maximum to find outliers')\n",
    "\n",
    "def boxplot_min_max(data): \n",
    "    Q1 = np.percentile(data, 25)\n",
    "    Q3 = np.percentile(data, 70)\n",
    "    IQR = Q3 - Q1\n",
    "    return Q1 - 1.5*IQR, Q3 + 1.5*IQR\n",
    "\n",
    "min_obs, max_obs = boxplot_min_max(temp_obs)\n",
    "print('The boxplot minimum and maximum for our dataset is',min_obs,'and',max_obs)\n",
    "print('Thus, temperatures outside the range of',min_obs,'and',max_obs,'would be abnormal.')\n",
    "print('We can find 95% confidence interval for them using bootstrap.')\n",
    "\n",
    "np.random.seed(10)\n",
    "bs_replicates = draw_bs_reps(temp_obs, boxplot_min_max, size=10000)\n",
    "conf_int_95_min = np.percentile([i[0] for i in bs_replicates], [2.5, 97.5])\n",
    "conf_int_95_max = np.percentile([i[1] for i in bs_replicates], [2.5, 97.5])\n",
    "\n",
    "print('95% confidence interval for the boxplot minimum from BS =', conf_int_95_min)\n",
    "print('95% confidence interval for the boxplot maximum from BS =', conf_int_95_max)\n",
    "print('To be safe, we can consider the range',conf_int_95_min[1],'and',conf_int_95_max[0])"
   ]
  },
  {
   "cell_type": "code",
   "execution_count": 8,
   "metadata": {},
   "outputs": [
    {
     "data": {
      "image/png": "[encoded data removed]",
      "text/plain": [
       "<Figure size 432x288 with 1 Axes>"
      ]
     },
     "metadata": {},
     "output_type": "display_data"
    },
    {
     "name": "stdout",
     "output_type": "stream",
     "text": [
      "H0: no significant difference between males and females in mean temperature.\n",
      "Testing that males and females have the same mean temperature.\n",
      "But not necessarily the same distribution.\n",
      "\n",
      "p-value using bootstrap= 0.0136\n",
      "H0 is rejected.\n",
      "\n",
      "Two-sided t-test:\n",
      "The t statistic is 2.2854 and the p value is 0.0239\n",
      "H0 is rejected.\n"
     ]
    }
   ],
   "source": [
    "# 6-) Is there a significant difference between males and females in normal temperature?\n",
    "#     What testing approach did you use and why?\n",
    "\n",
    "_ = sns.boxplot(x='gender', y='temperature', data=df)\n",
    "_ = plt.xlabel('Gender', fontsize=12)\n",
    "_ = plt.ylabel('Temperature ($^\\circ$F)')\n",
    "_ = plt.title('Distribution of Female & Male Body Temperatures', fontsize=12)\n",
    "plt.show()\n",
    "\n",
    "print('H0: no significant difference between males and females in mean temperature.')\n",
    "print('Testing that males and females have the same mean temperature.')\n",
    "print('But not necessarily the same distribution.')\n",
    "\n",
    "mean_temp = np.mean(df.temperature)\n",
    "\n",
    "female_temp = df.temperature[df.gender == 'F']\n",
    "female_mean_temp = np.mean(female_temp)\n",
    "female_temp_shifted = female_temp - female_mean_temp + mean_temp\n",
    "\n",
    "male_temp = df.temperature[df.gender == 'M']\n",
    "male_mean_temp = np.mean(male_temp)\n",
    "male_temp_shifted = male_temp - male_mean_temp + mean_temp\n",
    "\n",
    "bs_replicates_female = draw_bs_reps(female_temp_shifted, np.mean, size=10000)\n",
    "bs_replicates_male = draw_bs_reps(male_temp_shifted, np.mean, size=10000)\n",
    "bs_replicates = bs_replicates_female - bs_replicates_male\n",
    "\n",
    "empirical_diff_means = female_mean_temp - male_mean_temp\n",
    "p = np.sum(bs_replicates >= empirical_diff_means)/len(bs_replicates)\n",
    "print('\\np-value using bootstrap=', p)\n",
    "print('H0 is rejected.')\n",
    "\n",
    "print('\\nTwo-sided t-test:')\n",
    "t, p_t = stats.ttest_ind(female_temp, male_temp, equal_var=False)\n",
    "print('The t statistic is', round(t,4),'and the p value is', round(p_t,4))\n",
    "print('H0 is rejected.')"
   ]
  },
  {
   "cell_type": "code",
   "execution_count": null,
   "metadata": {},
   "outputs": [],
   "source": []
  }
 ],
 "metadata": {
  "kernelspec": {
   "display_name": "Python 3",
   "language": "python",
   "name": "python3"
  },
  "language_info": {
   "codemirror_mode": {
    "name": "ipython",
    "version": 3
   },
   "file_extension": ".py",
   "mimetype": "text/x-python",
   "name": "python",
   "nbconvert_exporter": "python",
   "pygments_lexer": "ipython3",
   "version": "3.7.3"
  }
 },
 "nbformat": 4,
 "nbformat_minor": 1
}
