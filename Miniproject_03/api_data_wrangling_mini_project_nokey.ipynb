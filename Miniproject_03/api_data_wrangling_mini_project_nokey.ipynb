{
 "cells": [
  {
   "cell_type": "markdown",
   "metadata": {},
   "source": [
    "This exercise will require you to pull some data from the Qunadl API. Qaundl is currently the most widely used aggregator of financial market data."
   ]
  },
  {
   "cell_type": "markdown",
   "metadata": {},
   "source": [
    "As a first step, you will need to register a free account on the http://www.quandl.com website."
   ]
  },
  {
   "cell_type": "markdown",
   "metadata": {},
   "source": [
    "After you register, you will be provided with a unique API key, that you should store:"
   ]
  },
  {
   "cell_type": "code",
   "execution_count": null,
   "metadata": {},
   "outputs": [],
   "source": [
    "# Store the API key as a string - according to PEP8, constants are always named in all upper case\n",
    "API_KEY = '____'"
   ]
  },
  {
   "cell_type": "markdown",
   "metadata": {},
   "source": [
    "Qaundl has a large number of data sources, but, unfortunately, most of them require a Premium subscription. Still, there are also a good number of free datasets."
   ]
  },
  {
   "cell_type": "markdown",
   "metadata": {},
   "source": [
    "For this mini project, we will focus on equities data from the Frankfurt Stock Exhange (FSE), which is available for free. We'll try and analyze the stock prices of a company called Carl Zeiss Meditec, which manufactures tools for eye examinations, as well as medical lasers for laser eye surgery: https://www.zeiss.com/meditec/int/home.html. The company is listed under the stock ticker AFX_X."
   ]
  },
  {
   "cell_type": "markdown",
   "metadata": {},
   "source": [
    "You can find the detailed Quandl API instructions here: https://docs.quandl.com/docs/time-series"
   ]
  },
  {
   "cell_type": "markdown",
   "metadata": {},
   "source": [
    "While there is a dedicated Python package for connecting to the Quandl API, we would prefer that you use the *requests* package, which can be easily downloaded using *pip* or *conda*. You can find the documentation for the package here: http://docs.python-requests.org/en/master/ "
   ]
  },
  {
   "cell_type": "markdown",
   "metadata": {},
   "source": [
    "Finally, apart from the *requests* package, you are encouraged to not use any third party Python packages, such as *pandas*, and instead focus on what's available in the Python Standard Library (the *collections* module might come in handy: https://pymotw.com/3/collections/ ).\n",
    "Also, since you won't have access to DataFrames, you are encouraged to us Python's native data structures - preferably dictionaries, though some questions can also be answered using lists.\n",
    "You can read more on these data structures here: https://docs.python.org/3/tutorial/datastructures.html"
   ]
  },
  {
   "cell_type": "markdown",
   "metadata": {},
   "source": [
    "Keep in mind that the JSON responses you will be getting from the API map almost one-to-one to Python's dictionaries. Unfortunately, they can be very nested, so make sure you read up on indexing dictionaries in the documentation provided above."
   ]
  },
  {
   "cell_type": "code",
   "execution_count": null,
   "metadata": {},
   "outputs": [],
   "source": [
    "# First, import the relevant modules\n",
    "import requests\n",
    "import json\n",
    "import csv\n",
    "#import pandas as pd\n",
    "from io import BytesIO\n",
    "from zipfile import ZipFile\n",
    "from bs4 import UnicodeDammit"
   ]
  },
  {
   "cell_type": "code",
   "execution_count": null,
   "metadata": {},
   "outputs": [],
   "source": [
    "## I want to take a look in the metadata about Frankfurt Stock Exchange.\n",
    "## https://www.quandl.com/data/FSE-Frankfurt-Stock-Exchange/usage/export\n",
    "urlmeta = 'https://www.quandl.com/api/v3/databases/FSE/metadata?api_key=' + API_KEY\n",
    "reqmeta = requests.get(urlmeta)"
   ]
  },
  {
   "cell_type": "code",
   "execution_count": null,
   "metadata": {},
   "outputs": [],
   "source": [
    "## From metadata in reqmeta I want information about Carl Zeiss Meditec.\n",
    "## First problem, reqmeta is zipped and need ZipFile to open.\n",
    "## Second problem, response in reqmeta in bytes need BytesIO(reqmeta.content).\n",
    "with ZipFile(BytesIO(reqmeta.content), 'r') as zipobj:\n",
    "    listfiles = zipobj.namelist()\n",
    "    print('List of files in metadata for Frankfurt Stock Exchange from quandl:')\n",
    "    print(listfiles)\n",
    "    \n",
    "    if len(listfiles) == 1:\n",
    "        print('\\nInformation about Carl Zeiss Meditec in metadata:')\n",
    "        ## I could have just used pandas reader here to create a df.\n",
    "        #reader_df = pd.read_csv(zipobj.open(listfiles[0]))\n",
    "        #print(reader_df)\n",
    "        with zipobj.open(listfiles[0], 'r') as infile:\n",
    "            ## I need to decode each line in infile using UnicodeDammit to find original code.\n",
    "            ## I could have guessed something like utf8.\n",
    "            #csvinfile = list(line.decode('utf8') for line in infile)\n",
    "            csvinfile = list(line.decode(UnicodeDammit(line).original_encoding) for line in infile)\n",
    "            reader_list = csv.reader(csvinfile)\n",
    "            print(list(row for row in reader_list if 'editec' in str(row)))\n",
    "            ## I could have created a dict.\n",
    "            #reader_dict = csv.DictReader(csvinfile) \n",
    "            #print(list(reader_dict))  \n",
    "    else:\n",
    "        print('\\nZero or more than 1 file in metadata!')"
   ]
  },
  {
   "cell_type": "code",
   "execution_count": null,
   "metadata": {},
   "outputs": [],
   "source": [
    "# Now, call the Quandl API and pull out a small sample of the data (only one day) to get a glimpse\n",
    "# into the JSON structure that will be returned\n",
    "urltest = 'https://www.quandl.com/api/v3/datasets/FSE/AFX_X/data.json?' + \\\n",
    "      '&limit=1&api_key=' + API_KEY\n",
    "reqtest = requests.get(urltest)"
   ]
  },
  {
   "cell_type": "code",
   "execution_count": null,
   "metadata": {},
   "outputs": [],
   "source": [
    "# Inspect the JSON structure of the object you created, and take note of how nested it is,\n",
    "# as well as the overall structure\n",
    "print(reqtest.json())\n",
    "## I could also have used content attribute.\n",
    "#print(req.content)"
   ]
  },
  {
   "cell_type": "markdown",
   "metadata": {},
   "source": [
    "These are your tasks for this mini project:\n",
    "\n",
    "1. Collect data from the Franfurt Stock Exchange, for the ticker AFX_X, for the whole year 2017 (keep in mind that the date format is YYYY-MM-DD).\n",
    "2. Convert the returned JSON object into a Python dictionary.\n",
    "3. Calculate what the highest and lowest opening prices were for the stock in this period.\n",
    "4. What was the largest change in any one day (based on High and Low price)?\n",
    "5. What was the largest change between any two days (based on Closing Price)?\n",
    "6. What was the average daily trading volume during this year?\n",
    "7. (Optional) What was the median trading volume during this year. (Note: you may need to implement your own function for calculating the median.)"
   ]
  },
  {
   "cell_type": "code",
   "execution_count": null,
   "metadata": {},
   "outputs": [],
   "source": [
    "## Task 1.\n",
    "url = \"https://www.quandl.com/api/v3/datasets/FSE/AFX_X/data.json?\" + \\\n",
    "      \"&start_date=2017-01-01&end_date=2017-12-31&api_key=\" + API_KEY\n",
    "req = requests.get(url)"
   ]
  },
  {
   "cell_type": "code",
   "execution_count": null,
   "metadata": {},
   "outputs": [],
   "source": [
    "## Task 2.\n",
    "afx17 = req.json()\n",
    "afx17a = json.loads(req.content)\n",
    "afx_str = req.content.decode(UnicodeDammit(req.content).original_encoding)\n",
    "afx17b = json.loads(afx_str)\n",
    "afx17c = json.load(BytesIO(req.content))\n",
    "print('Type of afx17: ', type(afx17))\n",
    "print('Is afx17 same as afx17a? ', afx17 == afx17a)\n",
    "print('Is afx17 same as afx17b? ', afx17 == afx17b)\n",
    "print('Is afx17 same as afx17c? ', afx17 == afx17c)\n",
    "print('\\nFirst level keys of afx17: ', afx17.keys())\n",
    "print('\\nSecond level keys of afx17: ', afx17['dataset_data'].keys())"
   ]
  },
  {
   "cell_type": "code",
   "execution_count": null,
   "metadata": {},
   "outputs": [],
   "source": [
    "## Preparing tuple of tuples for other tasks.\n",
    "thenames = afx17['dataset_data']['column_names']\n",
    "listoftuples = list(tuple(i) for i in afx17['dataset_data']['data'])\n",
    "thetuple = tuple(sorted(listoftuples, key = lambda x: x[0], reverse=True))\n",
    "print(thenames)\n",
    "print(thetuple[0:5])"
   ]
  },
  {
   "cell_type": "code",
   "execution_count": null,
   "metadata": {},
   "outputs": [],
   "source": [
    "## Task 3.\n",
    "task3list = list(list(i) for i in thetuple if i[1] is not None)\n",
    "maxopen = max(task3list, key = lambda x: float(x[1]))[1]\n",
    "maxdate = max(task3list, key = lambda x: float(x[1]))[0]\n",
    "minopen = min(task3list, key = lambda x: float(x[1]))[1]\n",
    "mindate = min(task3list, key = lambda x: float(x[1]))[0]\n",
    "print('The highest opening price was', maxopen, 'on', maxdate)\n",
    "print('The lowest opening price was', minopen, 'on', mindate)"
   ]
  },
  {
   "cell_type": "code",
   "execution_count": null,
   "metadata": {},
   "outputs": [],
   "source": [
    "## Task 4.\n",
    "task4list = list(list(i) for i in thetuple if i[2] != None or i[3] != None)\n",
    "for i in task4list:\n",
    "    i.append(i[2] - i[3])\n",
    "largchan = max(task4list, key = lambda x: float(x[11]))[11]\n",
    "largdate = max(task4list, key = lambda x: float(x[11]))[0]\n",
    "print('The largest change in any one day was', largchan, 'on', largdate)"
   ]
  },
  {
   "cell_type": "code",
   "execution_count": null,
   "metadata": {},
   "outputs": [],
   "source": [
    "## Task 5.\n",
    "task5list_today = list(list(i) for i in thetuple if i[4] is not None)\n",
    "del task5list_today[-1]\n",
    "task5list_yesterday = list(list(i) for i in thetuple if i[4] is not None)\n",
    "del task5list_yesterday[0]\n",
    "for i, j in zip(task5list_today, task5list_yesterday):\n",
    "    i.append(abs(i[4] - j[4]))\n",
    "largchan_2d = max(task5list_today, key = lambda x: float(x[11]))[11]\n",
    "largdate_2d = max(task5list_today, key = lambda x: float(x[11]))[0]\n",
    "print('The largest absolute change between any two days was', largchan_2d, 'on', largdate_2d)\n",
    "print('Obs. 1: date shows the most recent day out of the two days being compared.')\n",
    "print('Obs. 2: most but not all cases show day-right-after-day change.')"
   ]
  },
  {
   "cell_type": "code",
   "execution_count": null,
   "metadata": {},
   "outputs": [],
   "source": [
    "## Task 6.\n",
    "task6list = list(list(i) for i in thetuple if i[6] is not None)\n",
    "tradevol = list(i[6] for i in task6list)\n",
    "tradevolavg = sum(tradevol)/len(tradevol)\n",
    "print('The average daily trading volume during 2017 was', tradevolavg)"
   ]
  },
  {
   "cell_type": "code",
   "execution_count": null,
   "metadata": {},
   "outputs": [],
   "source": [
    "## Task 7 (using tradevol from task 6).\n",
    "sortedtradevol = sorted(tradevol, reverse=False)\n",
    "\n",
    "if isinstance(len(sortedtradevol)/2, int):\n",
    "    tradevolmd = ( sortedtradevol[int(len(sortedtradevol)/2 - 1)] + \\\n",
    "                   sortedtradevol[int(len(sortedtradevol)/2    )] )/2\n",
    "else:\n",
    "    tradevolmd = sortedtradevol[int(len(sortedtradevol)/2 - 1/2)]\n",
    "\n",
    "print('The median daily trading volume during 2017 was', tradevolmd)"
   ]
  },
  {
   "cell_type": "code",
   "execution_count": null,
   "metadata": {},
   "outputs": [],
   "source": []
  }
 ],
 "metadata": {
  "kernelspec": {
   "display_name": "Python 3",
   "language": "python",
   "name": "python3"
  },
  "language_info": {
   "codemirror_mode": {
    "name": "ipython",
    "version": 3
   },
   "file_extension": ".py",
   "mimetype": "text/x-python",
   "name": "python",
   "nbconvert_exporter": "python",
   "pygments_lexer": "ipython3",
   "version": "3.7.3"
  }
 },
 "nbformat": 4,
 "nbformat_minor": 2
}
