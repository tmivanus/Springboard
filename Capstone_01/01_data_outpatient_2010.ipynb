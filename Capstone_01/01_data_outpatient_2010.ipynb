{
 "cells": [
  {
   "cell_type": "code",
   "execution_count": 1,
   "metadata": {},
   "outputs": [],
   "source": [
    "## Relevant modules.\n",
    "import pandas as pd\n",
    "import os\n",
    "## Optional for alternative code two (see forth cell below)\n",
    "#import re"
   ]
  },
  {
   "cell_type": "code",
   "execution_count": 2,
   "metadata": {},
   "outputs": [
    {
     "name": "stdout",
     "output_type": "stream",
     "text": [
      "                          MEDICO  COD_ESPEC                  ESPECIALIDAD  \\\n",
      "0  CC-16449291-NOMBRE*DEL*DOCTOR         22  ANESTESIOLOGIA Y REANIMACION   \n",
      "1   CC-8682278-NOMBRE*DEL*DOCTOR         22  ANESTESIOLOGIA Y REANIMACION   \n",
      "2  CC-19188542-NOMBRE*DEL*DOCTOR        120                   CARDIOLOGIA   \n",
      "3  CC-70079989-NOMBRE*DEL*DOCTOR        120                   CARDIOLOGIA   \n",
      "4  CC-70115939-NOMBRE*DEL*DOCTOR        120                   CARDIOLOGIA   \n",
      "\n",
      "   NO CONSULTAS  NO CIRUGIAS  NO PACIENTES  \n",
      "0            84            1            90  \n",
      "1            10            8            10  \n",
      "2            45            2            33  \n",
      "3           251            1           180  \n",
      "4           712          162           630  \n"
     ]
    }
   ],
   "source": [
    "## First look at the original dataframe: data_outpatient_2010_firstlook.\n",
    "file_in = 'original_data/datos_ambulatorios_2010_new.csv'\n",
    "data_outpatient_2010_firstlook = pd.read_csv(file_in)\n",
    "print(data_outpatient_2010_firstlook.head())"
   ]
  },
  {
   "cell_type": "code",
   "execution_count": 3,
   "metadata": {},
   "outputs": [
    {
     "name": "stdout",
     "output_type": "stream",
     "text": [
      "   spec_code                       spec_es  year  \\\n",
      "0         22  anestesiologia y reanimacion  2010   \n",
      "1         22  anestesiologia y reanimacion  2010   \n",
      "2        120                   cardiologia  2010   \n",
      "3        120                   cardiologia  2010   \n",
      "4        120                   cardiologia  2010   \n",
      "\n",
      "                        doc_name  n_visits  n_surgeries  n_patients  \n",
      "0  CC-16449291-NOMBRE*DEL*DOCTOR        84            1          90  \n",
      "1   CC-8682278-NOMBRE*DEL*DOCTOR        10            8          10  \n",
      "2  CC-19188542-NOMBRE*DEL*DOCTOR        45            2          33  \n",
      "3  CC-70079989-NOMBRE*DEL*DOCTOR       251            1         180  \n",
      "4  CC-70115939-NOMBRE*DEL*DOCTOR       712          162         630   \n",
      "\n",
      "<class 'pandas.core.frame.DataFrame'>\n",
      "RangeIndex: 1659 entries, 0 to 1658\n",
      "Data columns (total 7 columns):\n",
      "spec_code      1659 non-null int64\n",
      "spec_es        1659 non-null object\n",
      "year           1659 non-null int64\n",
      "doc_name       1659 non-null object\n",
      "n_visits       1659 non-null int64\n",
      "n_surgeries    1659 non-null int64\n",
      "n_patients     1659 non-null int64\n",
      "dtypes: int64(5), object(2)\n",
      "memory usage: 90.8+ KB\n",
      "None\n",
      "Column spec_code has 0 strings.\n",
      "Column spec_es has 1659 strings.\n",
      "Column year has 0 strings.\n",
      "Column doc_name has 1659 strings.\n",
      "Column n_visits has 0 strings.\n",
      "Column n_surgeries has 0 strings.\n",
      "Column n_patients has 0 strings.\n"
     ]
    }
   ],
   "source": [
    "## Organizing dataframe better: data_outpatient_2010.\n",
    "data_outpatient_2010 = pd.read_csv(file_in, header=0)\n",
    "data_outpatient_2010['year'] = [2010]*len(data_outpatient_2010)\n",
    "col_names = ['doc_name','spec_code','spec_es','n_visits','n_surgeries','n_patients','year']\n",
    "col_order = ['spec_code','spec_es','year','doc_name','n_visits','n_surgeries','n_patients']\n",
    "data_outpatient_2010.columns = col_names\n",
    "data_outpatient_2010 = data_outpatient_2010[col_order]\n",
    "\n",
    "data_outpatient_2010['spec_es'] = [i.lower() for i in data_outpatient_2010['spec_es']]\n",
    "\n",
    "print(data_outpatient_2010.head(),'\\n')\n",
    "print(data_outpatient_2010.info())\n",
    "for i in range(len(data_outpatient_2010.columns)):\n",
    "    i_name = data_outpatient_2010.iloc[:,i].name\n",
    "    i_value = sum(list(type(i)==str for i in data_outpatient_2010.iloc[:,i]))\n",
    "    print('Column', i_name, 'has', i_value, 'strings.')"
   ]
  },
  {
   "cell_type": "code",
   "execution_count": 4,
   "metadata": {},
   "outputs": [
    {
     "name": "stdout",
     "output_type": "stream",
     "text": [
      "   spec_code                       spec_es  year  doc_code  \\\n",
      "0         22  anestesiologia y reanimacion  2010  16449291   \n",
      "1         22  anestesiologia y reanimacion  2010   8682278   \n",
      "2        120                   cardiologia  2010  19188542   \n",
      "3        120                   cardiologia  2010  70079989   \n",
      "4        120                   cardiologia  2010  70115939   \n",
      "\n",
      "                        doc_name  n_visits  n_surgeries  n_patients  \n",
      "0  CC-16449291-NOMBRE*DEL*DOCTOR        84            1          90  \n",
      "1   CC-8682278-NOMBRE*DEL*DOCTOR        10            8          10  \n",
      "2  CC-19188542-NOMBRE*DEL*DOCTOR        45            2          33  \n",
      "3  CC-70079989-NOMBRE*DEL*DOCTOR       251            1         180  \n",
      "4  CC-70115939-NOMBRE*DEL*DOCTOR       712          162         630   \n",
      "\n",
      "<class 'pandas.core.frame.DataFrame'>\n",
      "RangeIndex: 1659 entries, 0 to 1658\n",
      "Data columns (total 8 columns):\n",
      "spec_code      1659 non-null int64\n",
      "spec_es        1659 non-null object\n",
      "year           1659 non-null int64\n",
      "doc_code       1659 non-null int64\n",
      "doc_name       1659 non-null object\n",
      "n_visits       1659 non-null int64\n",
      "n_surgeries    1659 non-null int64\n",
      "n_patients     1659 non-null int64\n",
      "dtypes: int64(6), object(2)\n",
      "memory usage: 103.8+ KB\n",
      "None\n",
      "Column spec_code has 0 strings.\n",
      "Column spec_es has 1659 strings.\n",
      "Column year has 0 strings.\n",
      "Column doc_code has 0 strings.\n",
      "Column doc_name has 1659 strings.\n",
      "Column n_visits has 0 strings.\n",
      "Column n_surgeries has 0 strings.\n",
      "Column n_patients has 0 strings.\n"
     ]
    }
   ],
   "source": [
    "## Getting code for doctor, doc_code, and adding it to data_outpatient_2010.\n",
    "doc_code = []\n",
    "for i in data_outpatient_2010['doc_name']:\n",
    "    for j in i.split('-'):\n",
    "        if j.isdigit():\n",
    "            doc_code.append(int(j))\n",
    "\n",
    "## Alternative code one.\n",
    "#doc_code = [int(j) for i in data_outpatient_2010['doc_name'] for j in i.split('-') if j.isdigit()]            \n",
    "\n",
    "## Alternative code two.\n",
    "#doc_code = []\n",
    "#for i in data_outpatient_2010['doc_name']:\n",
    "#    temp = re.findall(r'\\d+', i) \n",
    "#    res = list(map(int, temp))\n",
    "#    doc_code.append(res[0])\n",
    "\n",
    "data_outpatient_2010['doc_code'] = doc_code\n",
    "col_order = ['spec_code','spec_es','year','doc_code','doc_name','n_visits','n_surgeries','n_patients']\n",
    "data_outpatient_2010 = data_outpatient_2010[col_order]\n",
    "\n",
    "print(data_outpatient_2010.head(),'\\n')\n",
    "print(data_outpatient_2010.info())\n",
    "for i in range(len(data_outpatient_2010.columns)):\n",
    "    i_name = data_outpatient_2010.iloc[:,i].name\n",
    "    i_value = sum(list(type(i)==str for i in data_outpatient_2010.iloc[:,i]))\n",
    "    print('Column', i_name, 'has', i_value, 'strings.')"
   ]
  },
  {
   "cell_type": "code",
   "execution_count": 5,
   "metadata": {},
   "outputs": [
    {
     "name": "stdout",
     "output_type": "stream",
     "text": [
      "   spec_code                       spec_es  year  doc_code  \\\n",
      "0         22  anestesiologia y reanimacion  2010  16449291   \n",
      "1         22  anestesiologia y reanimacion  2010   8682278   \n",
      "2        120                   cardiologia  2010  19188542   \n",
      "3        120                   cardiologia  2010  70079989   \n",
      "4        120                   cardiologia  2010  70115939   \n",
      "5        120                   cardiologia  2010  70557356   \n",
      "6        120                   cardiologia  2010  71593942   \n",
      "7        120                   cardiologia  2010  71622813   \n",
      "8        120                   cardiologia  2010  79451776   \n",
      "9        130        cirugia cardiovascular  2010  19111501   \n",
      "\n",
      "                        doc_name  n_visits  n_surgeries  n_patients  \n",
      "0  CC-16449291-NOMBRE*DEL*DOCTOR        84            1          90  \n",
      "1   CC-8682278-NOMBRE*DEL*DOCTOR        10            8          10  \n",
      "2  CC-19188542-NOMBRE*DEL*DOCTOR        45            2          33  \n",
      "3  CC-70079989-NOMBRE*DEL*DOCTOR       251            1         180  \n",
      "4  CC-70115939-NOMBRE*DEL*DOCTOR       712          162         630  \n",
      "5  CC-70557356-NOMBRE*DEL*DOCTOR       155            1         127  \n",
      "6  CC-71593942-NOMBRE*DEL*DOCTOR       407           87         323  \n",
      "7  CC-71622813-NOMBRE*DEL*DOCTOR       286           59         295  \n",
      "8  CC-79451776-NOMBRE*DEL*DOCTOR        22            1          13  \n",
      "9  CC-19111501-NOMBRE*DEL*DOCTOR        46            2          37   \n",
      "\n"
     ]
    }
   ],
   "source": [
    "## Sorting by spec_code and reseting index.\n",
    "data_outpatient_2010.sort_values('spec_code', inplace=True)\n",
    "data_outpatient_2010.reset_index(drop=True, inplace=True)\n",
    "print(data_outpatient_2010.head(10),'\\n')\n",
    "\n",
    "## Saving data_outpatient_2010 as csv to data folder.\n",
    "if os.path.exists('data/data_outpatient_2010.csv'):\n",
    "    print('data_outpatient_2010.csv already exists')\n",
    "elif os.path.exists('data'):\n",
    "    file_out = 'data/data_outpatient_2010.csv'\n",
    "    data_outpatient_2010.to_csv(path_or_buf=file_out, index=False)\n",
    "else:\n",
    "    os.mkdir('data')\n",
    "    file_out = 'data/data_outpatient_2010.csv'\n",
    "    data_outpatient_2010.to_csv(path_or_buf=file_out, index=False)"
   ]
  },
  {
   "cell_type": "code",
   "execution_count": null,
   "metadata": {},
   "outputs": [],
   "source": []
  }
 ],
 "metadata": {
  "kernelspec": {
   "display_name": "Python 3",
   "language": "python",
   "name": "python3"
  },
  "language_info": {
   "codemirror_mode": {
    "name": "ipython",
    "version": 3
   },
   "file_extension": ".py",
   "mimetype": "text/x-python",
   "name": "python",
   "nbconvert_exporter": "python",
   "pygments_lexer": "ipython3",
   "version": "3.7.3"
  }
 },
 "nbformat": 4,
 "nbformat_minor": 2
}
