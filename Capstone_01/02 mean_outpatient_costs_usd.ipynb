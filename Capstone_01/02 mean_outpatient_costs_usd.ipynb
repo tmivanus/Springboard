{
 "cells": [
  {
   "cell_type": "code",
   "execution_count": 1,
   "metadata": {},
   "outputs": [],
   "source": [
    "## Relevant modules.\n",
    "import os\n",
    "import pandas as pd\n",
    "from googletrans import Translator"
   ]
  },
  {
   "cell_type": "code",
   "execution_count": 2,
   "metadata": {
    "scrolled": true
   },
   "outputs": [
    {
     "name": "stdout",
     "output_type": "stream",
     "text": [
      "  COSTO PROMEDIO PARA LA ASEGURADORA                            US$  \\\n",
      "0                          COD_ESPEC                   ESPECIALIDAD   \n",
      "1                                389                   ADOLESCENCIA   \n",
      "2                                 22   ANESTESIOLOGIA Y REANIMACION   \n",
      "3                                120                    CARDIOLOGIA   \n",
      "4                                211  CARDIOLOGIA ELECTROFISIOLOGIA   \n",
      "\n",
      "                  2008a                2008b                 2009a  \\\n",
      "0  CONSULTA AMBULATORIA  CIRUGIA AMBULATORIA  CONSULTA AMBULATORIA   \n",
      "1    29.043628650677107                   nd     32.09116621819961   \n",
      "2    21.689252583869877   205.85068883330013     22.71958577951729   \n",
      "3     29.51413869708569   209.01869158878506    30.897962342587373   \n",
      "4     25.23658448617874   43.065589818893784    27.069279011356457   \n",
      "\n",
      "                 2009b                 2010a                2010b  \\\n",
      "0  CIRUGIA AMBULATORIA  CONSULTA AMBULATORIA  CIRUGIA AMBULATORIA   \n",
      "1    101.2720156555773     36.43449754901961    87.81076388888889   \n",
      "2   234.46587055728332                    nd                   nd   \n",
      "3   266.23077043092957     33.87685587581879   319.17995845375725   \n",
      "4   167.22031963470317    27.683369502314815    64.32291666666667   \n",
      "\n",
      "                  2011a                2011b                 2012a  \\\n",
      "0  CONSULTA AMBULATORIA  CIRUGIA AMBULATORIA  CONSULTA AMBULATORIA   \n",
      "1     33.12134069887881   115.12662559890485     42.19987398112398   \n",
      "2                    nd   324.77144359577824     54.41943710482271   \n",
      "3     31.92800256905178   245.43380450344347     35.45991319054699   \n",
      "4    25.662401112305524    55.61858316221766     28.59501235106074   \n",
      "\n",
      "                 2012b  \n",
      "0  CIRUGIA AMBULATORIA  \n",
      "1    368.2432432432432  \n",
      "2    400.2334846975047  \n",
      "3   498.94702381782923  \n",
      "4    83.42717717717717  \n"
     ]
    }
   ],
   "source": [
    "## First look at the original dataframe: outpatient_costs_firstlook.\n",
    "file_in = 'original_data/costos_promedios_ambulatorios.csv'\n",
    "outpatient_costs_firstlook = pd.read_csv(file_in)\n",
    "print(outpatient_costs_firstlook.head())"
   ]
  },
  {
   "cell_type": "code",
   "execution_count": 3,
   "metadata": {},
   "outputs": [
    {
     "name": "stdout",
     "output_type": "stream",
     "text": [
      "COSTO PROMEDIO PARA LA ASEGURADORA                2008a               2008b  \\\n",
      "COD_ESPEC                          CONSULTA AMBULATORIA CIRUGIA AMBULATORIA   \n",
      "389 adolescencia                                  29.04                 NaN   \n",
      "22  anestesiologia y reanimacion                  21.69              205.85   \n",
      "120 cardiologia                                   29.51              209.02   \n",
      "211 cardiologia electrofisiologia                 25.24               43.07   \n",
      "130 cirugia cardiovascular                        25.46              527.50   \n",
      "\n",
      "COSTO PROMEDIO PARA LA ASEGURADORA                2009a               2009b  \\\n",
      "COD_ESPEC                          CONSULTA AMBULATORIA CIRUGIA AMBULATORIA   \n",
      "389 adolescencia                                  32.09              101.27   \n",
      "22  anestesiologia y reanimacion                  22.72              234.47   \n",
      "120 cardiologia                                   30.90              266.23   \n",
      "211 cardiologia electrofisiologia                 27.07              167.22   \n",
      "130 cirugia cardiovascular                        27.13              651.50   \n",
      "\n",
      "COSTO PROMEDIO PARA LA ASEGURADORA                2010a               2010b  \\\n",
      "COD_ESPEC                          CONSULTA AMBULATORIA CIRUGIA AMBULATORIA   \n",
      "389 adolescencia                                  36.43               87.81   \n",
      "22  anestesiologia y reanimacion                    NaN                 NaN   \n",
      "120 cardiologia                                   33.88              319.18   \n",
      "211 cardiologia electrofisiologia                 27.68               64.32   \n",
      "130 cirugia cardiovascular                        28.47              868.45   \n",
      "\n",
      "COSTO PROMEDIO PARA LA ASEGURADORA                2011a               2011b  \\\n",
      "COD_ESPEC                          CONSULTA AMBULATORIA CIRUGIA AMBULATORIA   \n",
      "389 adolescencia                                  33.12              115.13   \n",
      "22  anestesiologia y reanimacion                    NaN              324.77   \n",
      "120 cardiologia                                   31.93              245.43   \n",
      "211 cardiologia electrofisiologia                 25.66               55.62   \n",
      "130 cirugia cardiovascular                        30.82              952.63   \n",
      "\n",
      "COSTO PROMEDIO PARA LA ASEGURADORA                2012a               2012b  \n",
      "COD_ESPEC                          CONSULTA AMBULATORIA CIRUGIA AMBULATORIA  \n",
      "389 adolescencia                                  42.20              368.24  \n",
      "22  anestesiologia y reanimacion                  54.42              400.23  \n",
      "120 cardiologia                                   35.46              498.95  \n",
      "211 cardiologia electrofisiologia                 28.60               83.43  \n",
      "130 cirugia cardiovascular                        33.72              583.85  \n"
     ]
    }
   ],
   "source": [
    "## Organizing dataframe better: outpatient_costs.\n",
    "outpatient_costs = pd.read_csv(file_in, header=[0,1], index_col=[0,1],\\\n",
    "                               na_values=['nd']).sort_index(level=1).round(2)\n",
    "outpatient_costs.index = [outpatient_costs.index.get_level_values(0),\\\n",
    "                          outpatient_costs.index.get_level_values(1).str.lower()]\n",
    "print(outpatient_costs.head())"
   ]
  },
  {
   "cell_type": "code",
   "execution_count": 4,
   "metadata": {},
   "outputs": [
    {
     "name": "stdout",
     "output_type": "stream",
     "text": [
      "year                                       2008              2009            \\\n",
      "avg_cost_usd                            c_visit c_surgery c_visit c_surgery   \n",
      "spec_code spec_es                                                             \n",
      "389       adolescencia                    29.04       NaN   32.09    101.27   \n",
      "22        anestesiologia y reanimacion    21.69    205.85   22.72    234.47   \n",
      "120       cardiologia                     29.51    209.02   30.90    266.23   \n",
      "211       cardiologia electrofisiologia   25.24     43.07   27.07    167.22   \n",
      "130       cirugia cardiovascular          25.46    527.50   27.13    651.50   \n",
      "\n",
      "year                                       2010              2011            \\\n",
      "avg_cost_usd                            c_visit c_surgery c_visit c_surgery   \n",
      "spec_code spec_es                                                             \n",
      "389       adolescencia                    36.43     87.81   33.12    115.13   \n",
      "22        anestesiologia y reanimacion      NaN       NaN     NaN    324.77   \n",
      "120       cardiologia                     33.88    319.18   31.93    245.43   \n",
      "211       cardiologia electrofisiologia   27.68     64.32   25.66     55.62   \n",
      "130       cirugia cardiovascular          28.47    868.45   30.82    952.63   \n",
      "\n",
      "year                                       2012            \n",
      "avg_cost_usd                            c_visit c_surgery  \n",
      "spec_code spec_es                                          \n",
      "389       adolescencia                    42.20    368.24  \n",
      "22        anestesiologia y reanimacion    54.42    400.23  \n",
      "120       cardiologia                     35.46    498.95  \n",
      "211       cardiologia electrofisiologia   28.60     83.43  \n",
      "130       cirugia cardiovascular          33.72    583.85  \n"
     ]
    }
   ],
   "source": [
    "## Organizing dataframe as multi-index dataframe: outpatient_costs.\n",
    "col_0 = [2008]*2 + [2009]*2 + [2010]*2 + [2011]*2 + [2012]*2\n",
    "col_1 = ['c_visit','c_surgery']*5\n",
    "arrays = [col_0, col_1]\n",
    "outpatient_costs.columns = pd.MultiIndex.from_arrays(arrays,\\\n",
    "                                                     names=['year','avg_cost_usd'])\n",
    "outpatient_costs.index.names = ['spec_code','spec_es']\n",
    "print(outpatient_costs.head())"
   ]
  },
  {
   "cell_type": "code",
   "execution_count": 5,
   "metadata": {},
   "outputs": [
    {
     "name": "stdout",
     "output_type": "stream",
     "text": [
      "year                                                                        2008  \\\n",
      "avg_cost_usd                                                             c_visit   \n",
      "spec_code spec_es                       spec_en                                    \n",
      "389       adolescencia                  adolescence                        29.04   \n",
      "22        anestesiologia y reanimacion  anesthesiology and resuscitation   21.69   \n",
      "120       cardiologia                   cardiology                         29.51   \n",
      "211       cardiologia electrofisiologia electrophysiology cardiology       25.24   \n",
      "130       cirugia cardiovascular        cardiovascular surgery             25.46   \n",
      "\n",
      "year                                                                                \\\n",
      "avg_cost_usd                                                             c_surgery   \n",
      "spec_code spec_es                       spec_en                                      \n",
      "389       adolescencia                  adolescence                            NaN   \n",
      "22        anestesiologia y reanimacion  anesthesiology and resuscitation    205.85   \n",
      "120       cardiologia                   cardiology                          209.02   \n",
      "211       cardiologia electrofisiologia electrophysiology cardiology         43.07   \n",
      "130       cirugia cardiovascular        cardiovascular surgery              527.50   \n",
      "\n",
      "year                                                                        2009  \\\n",
      "avg_cost_usd                                                             c_visit   \n",
      "spec_code spec_es                       spec_en                                    \n",
      "389       adolescencia                  adolescence                        32.09   \n",
      "22        anestesiologia y reanimacion  anesthesiology and resuscitation   22.72   \n",
      "120       cardiologia                   cardiology                         30.90   \n",
      "211       cardiologia electrofisiologia electrophysiology cardiology       27.07   \n",
      "130       cirugia cardiovascular        cardiovascular surgery             27.13   \n",
      "\n",
      "year                                                                                \\\n",
      "avg_cost_usd                                                             c_surgery   \n",
      "spec_code spec_es                       spec_en                                      \n",
      "389       adolescencia                  adolescence                         101.27   \n",
      "22        anestesiologia y reanimacion  anesthesiology and resuscitation    234.47   \n",
      "120       cardiologia                   cardiology                          266.23   \n",
      "211       cardiologia electrofisiologia electrophysiology cardiology        167.22   \n",
      "130       cirugia cardiovascular        cardiovascular surgery              651.50   \n",
      "\n",
      "year                                                                        2010  \\\n",
      "avg_cost_usd                                                             c_visit   \n",
      "spec_code spec_es                       spec_en                                    \n",
      "389       adolescencia                  adolescence                        36.43   \n",
      "22        anestesiologia y reanimacion  anesthesiology and resuscitation     NaN   \n",
      "120       cardiologia                   cardiology                         33.88   \n",
      "211       cardiologia electrofisiologia electrophysiology cardiology       27.68   \n",
      "130       cirugia cardiovascular        cardiovascular surgery             28.47   \n",
      "\n",
      "year                                                                                \\\n",
      "avg_cost_usd                                                             c_surgery   \n",
      "spec_code spec_es                       spec_en                                      \n",
      "389       adolescencia                  adolescence                          87.81   \n",
      "22        anestesiologia y reanimacion  anesthesiology and resuscitation       NaN   \n",
      "120       cardiologia                   cardiology                          319.18   \n",
      "211       cardiologia electrofisiologia electrophysiology cardiology         64.32   \n",
      "130       cirugia cardiovascular        cardiovascular surgery              868.45   \n",
      "\n",
      "year                                                                        2011  \\\n",
      "avg_cost_usd                                                             c_visit   \n",
      "spec_code spec_es                       spec_en                                    \n",
      "389       adolescencia                  adolescence                        33.12   \n",
      "22        anestesiologia y reanimacion  anesthesiology and resuscitation     NaN   \n",
      "120       cardiologia                   cardiology                         31.93   \n",
      "211       cardiologia electrofisiologia electrophysiology cardiology       25.66   \n",
      "130       cirugia cardiovascular        cardiovascular surgery             30.82   \n",
      "\n",
      "year                                                                                \\\n",
      "avg_cost_usd                                                             c_surgery   \n",
      "spec_code spec_es                       spec_en                                      \n",
      "389       adolescencia                  adolescence                         115.13   \n",
      "22        anestesiologia y reanimacion  anesthesiology and resuscitation    324.77   \n",
      "120       cardiologia                   cardiology                          245.43   \n",
      "211       cardiologia electrofisiologia electrophysiology cardiology         55.62   \n",
      "130       cirugia cardiovascular        cardiovascular surgery              952.63   \n",
      "\n",
      "year                                                                        2012  \\\n",
      "avg_cost_usd                                                             c_visit   \n",
      "spec_code spec_es                       spec_en                                    \n",
      "389       adolescencia                  adolescence                        42.20   \n",
      "22        anestesiologia y reanimacion  anesthesiology and resuscitation   54.42   \n",
      "120       cardiologia                   cardiology                         35.46   \n",
      "211       cardiologia electrofisiologia electrophysiology cardiology       28.60   \n",
      "130       cirugia cardiovascular        cardiovascular surgery             33.72   \n",
      "\n",
      "year                                                                                \n",
      "avg_cost_usd                                                             c_surgery  \n",
      "spec_code spec_es                       spec_en                                     \n",
      "389       adolescencia                  adolescence                         368.24  \n",
      "22        anestesiologia y reanimacion  anesthesiology and resuscitation    400.23  \n",
      "120       cardiologia                   cardiology                          498.95  \n",
      "211       cardiologia electrofisiologia electrophysiology cardiology         83.43  \n",
      "130       cirugia cardiovascular        cardiovascular surgery              583.85  \n"
     ]
    }
   ],
   "source": [
    "## Adding new column with specialty in english: outpatient_costs.\n",
    "translator = Translator()\n",
    "translated_words = []\n",
    "for i in outpatient_costs.index.get_level_values(1):\n",
    "    j = translator.translate(i, src='es', dest='en')\n",
    "    translated_words.append(j.text)\n",
    "outpatient_costs['spec_en'] = list(i.lower() for i in translated_words)\n",
    "outpatient_costs.set_index('spec_en', append=True, inplace=True)\n",
    "print(outpatient_costs.head())"
   ]
  },
  {
   "cell_type": "code",
   "execution_count": null,
   "metadata": {},
   "outputs": [],
   "source": [
    "## Optional: code to access multi-index outpatient_costs if necessary.\n",
    "#idx = pd.IndexSlice\n",
    "#print(outpatient_costs.loc[:,idx[2012,:]].head())\n",
    "#print(outpatient_costs.loc[:,idx[:,['c_visit','c_surgery']]].head())"
   ]
  },
  {
   "cell_type": "code",
   "execution_count": 6,
   "metadata": {},
   "outputs": [
    {
     "name": "stdout",
     "output_type": "stream",
     "text": [
      "avg_cost_usd                                                                  c_surgery  \\\n",
      "spec_code spec_es                      spec_en                          year              \n",
      "389       adolescencia                 adolescence                      2008        NaN   \n",
      "                                                                        2009     101.27   \n",
      "                                                                        2010      87.81   \n",
      "                                                                        2011     115.13   \n",
      "                                                                        2012     368.24   \n",
      "22        anestesiologia y reanimacion anesthesiology and resuscitation 2008     205.85   \n",
      "                                                                        2009     234.47   \n",
      "                                                                        2010        NaN   \n",
      "                                                                        2011     324.77   \n",
      "                                                                        2012     400.23   \n",
      "\n",
      "avg_cost_usd                                                                  c_visit  \n",
      "spec_code spec_es                      spec_en                          year           \n",
      "389       adolescencia                 adolescence                      2008    29.04  \n",
      "                                                                        2009    32.09  \n",
      "                                                                        2010    36.43  \n",
      "                                                                        2011    33.12  \n",
      "                                                                        2012    42.20  \n",
      "22        anestesiologia y reanimacion anesthesiology and resuscitation 2008    21.69  \n",
      "                                                                        2009    22.72  \n",
      "                                                                        2010      NaN  \n",
      "                                                                        2011      NaN  \n",
      "                                                                        2012    54.42  \n"
     ]
    }
   ],
   "source": [
    "## Stacking data in outpatient_costs: outpatient_costs_stack.\n",
    "outpatient_costs_stack = outpatient_costs.stack(level=0, dropna=False)\n",
    "print(outpatient_costs_stack.head(10))"
   ]
  },
  {
   "cell_type": "code",
   "execution_count": null,
   "metadata": {},
   "outputs": [],
   "source": [
    "## Optional: code to access multi-index outpatient_costs_stack if necessary.\n",
    "#idx = pd.IndexSlice\n",
    "#print(outpatient_costs_stack.loc[idx[:,:,:,[2008,2009]],'c_surgery'].head())"
   ]
  },
  {
   "cell_type": "code",
   "execution_count": 7,
   "metadata": {},
   "outputs": [
    {
     "name": "stdout",
     "output_type": "stream",
     "text": [
      "                                spec_es                           spec_en  \\\n",
      "spec_code                                                                   \n",
      "22         anestesiologia y reanimacion  anesthesiology and resuscitation   \n",
      "22         anestesiologia y reanimacion  anesthesiology and resuscitation   \n",
      "22         anestesiologia y reanimacion  anesthesiology and resuscitation   \n",
      "22         anestesiologia y reanimacion  anesthesiology and resuscitation   \n",
      "22         anestesiologia y reanimacion  anesthesiology and resuscitation   \n",
      "120                         cardiologia                        cardiology   \n",
      "120                         cardiologia                        cardiology   \n",
      "120                         cardiologia                        cardiology   \n",
      "120                         cardiologia                        cardiology   \n",
      "120                         cardiologia                        cardiology   \n",
      "\n",
      "           year  c_surgery  c_visit  \n",
      "spec_code                            \n",
      "22         2012     400.23    54.42  \n",
      "22         2008     205.85    21.69  \n",
      "22         2009     234.47    22.72  \n",
      "22         2010        NaN      NaN  \n",
      "22         2011     324.77      NaN  \n",
      "120        2012     498.95    35.46  \n",
      "120        2011     245.43    31.93  \n",
      "120        2008     209.02    29.51  \n",
      "120        2009     266.23    30.90  \n",
      "120        2010     319.18    33.88  \n"
     ]
    }
   ],
   "source": [
    "## Making a simple dataframe: mean_outpatient_costs_usd.\n",
    "mean_outpatient_costs_usd = outpatient_costs_stack\\\n",
    "                            .reset_index(level=['spec_es','spec_en','year'])\n",
    "del mean_outpatient_costs_usd.columns.name\n",
    "\n",
    "## Sorting by spec_code, the current index (alternative: by spec_es).\n",
    "mean_outpatient_costs_usd.sort_index(inplace=True)\n",
    "#mean_outpatient_costs_usd.sort_values('spec_es', inplace=True)\n",
    "print(mean_outpatient_costs_usd.head(10))"
   ]
  },
  {
   "cell_type": "code",
   "execution_count": 8,
   "metadata": {
    "scrolled": true
   },
   "outputs": [
    {
     "name": "stdout",
     "output_type": "stream",
     "text": [
      "   spec_code                       spec_es                           spec_en  \\\n",
      "0         22  anestesiologia y reanimacion  anesthesiology and resuscitation   \n",
      "1         22  anestesiologia y reanimacion  anesthesiology and resuscitation   \n",
      "2         22  anestesiologia y reanimacion  anesthesiology and resuscitation   \n",
      "3         22  anestesiologia y reanimacion  anesthesiology and resuscitation   \n",
      "4         22  anestesiologia y reanimacion  anesthesiology and resuscitation   \n",
      "5        120                   cardiologia                        cardiology   \n",
      "6        120                   cardiologia                        cardiology   \n",
      "7        120                   cardiologia                        cardiology   \n",
      "8        120                   cardiologia                        cardiology   \n",
      "9        120                   cardiologia                        cardiology   \n",
      "\n",
      "   year  c_surgery  c_visit  \n",
      "0  2012     400.23    54.42  \n",
      "1  2008     205.85    21.69  \n",
      "2  2009     234.47    22.72  \n",
      "3  2010        NaN      NaN  \n",
      "4  2011     324.77      NaN  \n",
      "5  2012     498.95    35.46  \n",
      "6  2011     245.43    31.93  \n",
      "7  2008     209.02    29.51  \n",
      "8  2009     266.23    30.90  \n",
      "9  2010     319.18    33.88  \n",
      "data/ already exists.\n",
      "data/mean_outpatient_costs_usd.csv has been created.\n"
     ]
    }
   ],
   "source": [
    "## Reseting the index, just in case.\n",
    "mean_outpatient_costs_usd.reset_index(inplace=True)\n",
    "print(mean_outpatient_costs_usd.head(10))\n",
    "\n",
    "## Saving mean_outpatient_costs_usd as csv to data folder.\n",
    "if os.path.exists('data/mean_outpatient_costs_usd.csv'):\n",
    "    print('data/mean_outpatient_costs_usd.csv already exists.')\n",
    "elif os.path.exists('data'):\n",
    "    file_out = 'data/mean_outpatient_costs_usd.csv'\n",
    "    mean_outpatient_costs_usd.to_csv(path_or_buf=file_out, index=False)\n",
    "    print('data/ already exists.')\n",
    "    print('data/mean_outpatient_costs_usd.csv has been created.')\n",
    "else:\n",
    "    os.mkdir('data')\n",
    "    file_out = 'data/mean_outpatient_costs_usd.csv'\n",
    "    mean_outpatient_costs_usd.to_csv(path_or_buf=file_out, index=False)\n",
    "    print('data/mean_outpatient_costs_usd.csv has been created.')"
   ]
  },
  {
   "cell_type": "code",
   "execution_count": null,
   "metadata": {},
   "outputs": [],
   "source": []
  }
 ],
 "metadata": {
  "kernelspec": {
   "display_name": "Python 3",
   "language": "python",
   "name": "python3"
  },
  "language_info": {
   "codemirror_mode": {
    "name": "ipython",
    "version": 3
   },
   "file_extension": ".py",
   "mimetype": "text/x-python",
   "name": "python",
   "nbconvert_exporter": "python",
   "pygments_lexer": "ipython3",
   "version": "3.7.3"
  }
 },
 "nbformat": 4,
 "nbformat_minor": 2
}
