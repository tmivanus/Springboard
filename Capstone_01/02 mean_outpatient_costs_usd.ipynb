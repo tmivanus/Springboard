{
 "cells": [
  {
   "cell_type": "code",
   "execution_count": null,
   "metadata": {},
   "outputs": [],
   "source": [
    "## Relevant modules.\n",
    "import os\n",
    "import pandas as pd\n",
    "from googletrans import Translator"
   ]
  },
  {
   "cell_type": "code",
   "execution_count": null,
   "metadata": {
    "scrolled": true
   },
   "outputs": [],
   "source": [
    "## First look at the original dataframe: outpatient_costs_firstlook.\n",
    "file_in = 'original_data/costos_promedios_ambulatorios.csv'\n",
    "outpatient_costs_firstlook = pd.read_csv(file_in)\n",
    "print(outpatient_costs_firstlook.head())"
   ]
  },
  {
   "cell_type": "code",
   "execution_count": null,
   "metadata": {},
   "outputs": [],
   "source": [
    "## Organizing dataframe better: outpatient_costs.\n",
    "outpatient_costs = pd.read_csv(file_in, header=[0,1], index_col=[0,1],\\\n",
    "                               na_values=['nd']).sort_index(level=1).round(2)\n",
    "outpatient_costs.index = [outpatient_costs.index.get_level_values(0),\\\n",
    "                          outpatient_costs.index.get_level_values(1).str.lower()]\n",
    "print(outpatient_costs.head())"
   ]
  },
  {
   "cell_type": "code",
   "execution_count": null,
   "metadata": {},
   "outputs": [],
   "source": [
    "## Organizing dataframe as multi-index dataframe: outpatient_costs.\n",
    "col_0 = [2008]*2 + [2009]*2 + [2010]*2 + [2011]*2 + [2012]*2\n",
    "col_1 = ['c_visit','c_surgery']*5\n",
    "arrays = [col_0, col_1]\n",
    "outpatient_costs.columns = pd.MultiIndex.from_arrays(arrays,\\\n",
    "                                                     names=['year','avg_cost_usd'])\n",
    "outpatient_costs.index.names = ['spec_code','spec_es']\n",
    "print(outpatient_costs.head())"
   ]
  },
  {
   "cell_type": "code",
   "execution_count": null,
   "metadata": {},
   "outputs": [],
   "source": [
    "## Adding new column with specialty in english: outpatient_costs.\n",
    "translator = Translator()\n",
    "translated_words = []\n",
    "for i in outpatient_costs.index.get_level_values(1):\n",
    "    j = translator.translate(i, src='es', dest='en')\n",
    "    translated_words.append(j.text)\n",
    "outpatient_costs['spec_en'] = list(i.lower() for i in translated_words)\n",
    "outpatient_costs.set_index('spec_en', append=True, inplace=True)\n",
    "print(outpatient_costs.head())"
   ]
  },
  {
   "cell_type": "code",
   "execution_count": null,
   "metadata": {},
   "outputs": [],
   "source": [
    "## Optional: code to access multi-index outpatient_costs if necessary.\n",
    "#idx = pd.IndexSlice\n",
    "#print(outpatient_costs.loc[:,idx[2012,:]].head())\n",
    "#print(outpatient_costs.loc[:,idx[:,['c_visit','c_surgery']]].head())"
   ]
  },
  {
   "cell_type": "code",
   "execution_count": null,
   "metadata": {},
   "outputs": [],
   "source": [
    "## Stacking data in outpatient_costs: outpatient_costs_stack.\n",
    "outpatient_costs_stack = outpatient_costs.stack(level=0, dropna=False)\n",
    "print(outpatient_costs_stack.head(10))"
   ]
  },
  {
   "cell_type": "code",
   "execution_count": null,
   "metadata": {},
   "outputs": [],
   "source": [
    "## Optional: code to access multi-index outpatient_costs_stack if necessary.\n",
    "#idx = pd.IndexSlice\n",
    "#print(outpatient_costs_stack.loc[idx[:,:,:,[2008,2009]],'c_surgery'].head())"
   ]
  },
  {
   "cell_type": "code",
   "execution_count": null,
   "metadata": {},
   "outputs": [],
   "source": [
    "## Making a simple dataframe: mean_outpatient_costs_usd.\n",
    "mean_outpatient_costs_usd = outpatient_costs_stack\\\n",
    "                            .reset_index(level=['spec_es','spec_en','year'])\n",
    "del mean_outpatient_costs_usd.columns.name\n",
    "\n",
    "## Sorting by spec_code, the current index (alternative: by spec_es).\n",
    "mean_outpatient_costs_usd.sort_index(inplace=True)\n",
    "#mean_outpatient_costs_usd.sort_values('spec_es', inplace=True)\n",
    "print(mean_outpatient_costs_usd.head(10))"
   ]
  },
  {
   "cell_type": "code",
   "execution_count": null,
   "metadata": {
    "scrolled": true
   },
   "outputs": [],
   "source": [
    "## Reseting the index, just in case.\n",
    "mean_outpatient_costs_usd.reset_index(inplace=True)\n",
    "print(mean_outpatient_costs_usd.head(10))\n",
    "\n",
    "## Saving mean_outpatient_costs_usd as csv to data folder.\n",
    "if os.path.exists('data/mean_outpatient_costs_usd.csv'):\n",
    "    print('mean_outpatient_costs_usd.csv already exists')\n",
    "elif os.path.exists('data'):\n",
    "    file_out = 'data/mean_outpatient_costs_usd.csv'\n",
    "    mean_outpatient_costs_usd.to_csv(path_or_buf=file_out, index=False)\n",
    "else:\n",
    "    os.mkdir('data')\n",
    "    file_out = 'data/mean_outpatient_costs_usd.csv'\n",
    "    mean_outpatient_costs_usd.to_csv(path_or_buf=file_out, index=False)"
   ]
  },
  {
   "cell_type": "code",
   "execution_count": null,
   "metadata": {},
   "outputs": [],
   "source": []
  }
 ],
 "metadata": {
  "kernelspec": {
   "display_name": "Python 3",
   "language": "python",
   "name": "python3"
  },
  "language_info": {
   "codemirror_mode": {
    "name": "ipython",
    "version": 3
   },
   "file_extension": ".py",
   "mimetype": "text/x-python",
   "name": "python",
   "nbconvert_exporter": "python",
   "pygments_lexer": "ipython3",
   "version": "3.7.3"
  }
 },
 "nbformat": 4,
 "nbformat_minor": 2
}
