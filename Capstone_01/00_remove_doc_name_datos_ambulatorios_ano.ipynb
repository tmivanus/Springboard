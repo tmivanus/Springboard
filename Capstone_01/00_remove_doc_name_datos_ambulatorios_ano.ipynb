{
 "cells": [
  {
   "cell_type": "code",
   "execution_count": null,
   "metadata": {},
   "outputs": [],
   "source": [
    "## Relevant modules.\n",
    "import os\n",
    "import pandas as pd\n",
    "\n",
    "files_in = ['original_data/datos_ambulatorios_2008.csv',\\\n",
    "            'original_data/datos_ambulatorios_2009.csv',\\\n",
    "            'original_data/datos_ambulatorios_2010.csv',\\\n",
    "            'original_data/datos_ambulatorios_2011.csv',\\\n",
    "            'original_data/datos_ambulatorios_2012.csv']\n",
    "\n",
    "## Getting year of each file. \n",
    "## Reading each file as data_outpatient_year.\n",
    "for file in files_in:\n",
    "    year = file[-8:-4]\n",
    "    data_outpatient_year = pd.read_csv(file, header=0)\n",
    "\n",
    "    ## Creating new reference for data_outpatient_year['MEDICO'].\n",
    "    ## New reference will omit the names of doctors.\n",
    "    new_doc_name = []\n",
    "    for i in data_outpatient_year['MEDICO']:\n",
    "        name = list(i.split('-'))\n",
    "        new_doc_name.append(name[0]+'-'+name[1]+'-'+'NOMBRE*DEL*DOCTOR')\n",
    "        \n",
    "    data_outpatient_year['MEDICO'] = new_doc_name\n",
    "    \n",
    "    ## Saving data_outpatient_year as csv to original_data folder.\n",
    "    if os.path.exists('original_data/datos_ambulatorios_'+year+'_new.csv'):\n",
    "        print('datos_ambulatorios_'+year+'_new.csv already exists')\n",
    "    elif os.path.exists('original_data'):\n",
    "        file_out = 'original_data/datos_ambulatorios_'+year+'_new.csv'\n",
    "        data_outpatient_year.to_csv(path_or_buf=file_out, index=False)\n",
    "    else:\n",
    "        os.mkdir('original_data')\n",
    "        file_out = 'original_data/datos_ambulatorios_'+year+'_new.csv'\n",
    "        data_outpatient_year.to_csv(path_or_buf=file_out, index=False)"
   ]
  },
  {
   "cell_type": "code",
   "execution_count": null,
   "metadata": {},
   "outputs": [],
   "source": []
  }
 ],
 "metadata": {
  "kernelspec": {
   "display_name": "Python 3",
   "language": "python",
   "name": "python3"
  },
  "language_info": {
   "codemirror_mode": {
    "name": "ipython",
    "version": 3
   },
   "file_extension": ".py",
   "mimetype": "text/x-python",
   "name": "python",
   "nbconvert_exporter": "python",
   "pygments_lexer": "ipython3",
   "version": "3.7.3"
  }
 },
 "nbformat": 4,
 "nbformat_minor": 2
}
