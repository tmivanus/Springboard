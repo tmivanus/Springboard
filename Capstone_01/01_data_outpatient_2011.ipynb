{
 "cells": [
  {
   "cell_type": "code",
   "execution_count": 1,
   "metadata": {},
   "outputs": [],
   "source": [
    "## Relevant modules.\n",
    "import pandas as pd\n",
    "import os\n",
    "## Optional for alternative code two (see forth cell below)\n",
    "#import re"
   ]
  },
  {
   "cell_type": "code",
   "execution_count": 2,
   "metadata": {},
   "outputs": [
    {
     "name": "stdout",
     "output_type": "stream",
     "text": [
      "                         MEDICO  COD_ESPEC                  ESPECIALIDAD  \\\n",
      "0  C-15349090-NOMBRE*DEL*DOCTOR         22  ANESTESIOLOGIA Y REANIMACION   \n",
      "1  C-31988075-NOMBRE*DEL*DOCTOR         22  ANESTESIOLOGIA Y REANIMACION   \n",
      "2  C-39779019-NOMBRE*DEL*DOCTOR         22  ANESTESIOLOGIA Y REANIMACION   \n",
      "3   C-8693061-NOMBRE*DEL*DOCTOR         22  ANESTESIOLOGIA Y REANIMACION   \n",
      "4  C-10266901-NOMBRE*DEL*DOCTOR        120                   CARDIOLOGIA   \n",
      "\n",
      "   NO CONSULTAS  NO CIRUGIAS  NO PACIENTES  \n",
      "0            22            3            31  \n",
      "1            37            1            43  \n",
      "2             5            1             5  \n",
      "3             6            3             8  \n",
      "4             6            1            25  \n"
     ]
    }
   ],
   "source": [
    "## First look at the original dataframe: data_outpatient_2011_firstlook.\n",
    "file_in = 'original_data/datos_ambulatorios_2011_new.csv'\n",
    "data_outpatient_2011_firstlook = pd.read_csv(file_in)\n",
    "print(data_outpatient_2011_firstlook.head())"
   ]
  },
  {
   "cell_type": "code",
   "execution_count": 3,
   "metadata": {},
   "outputs": [
    {
     "name": "stdout",
     "output_type": "stream",
     "text": [
      "   spec_code                       spec_es  year  \\\n",
      "0         22  anestesiologia y reanimacion  2011   \n",
      "1         22  anestesiologia y reanimacion  2011   \n",
      "2         22  anestesiologia y reanimacion  2011   \n",
      "3         22  anestesiologia y reanimacion  2011   \n",
      "4        120                   cardiologia  2011   \n",
      "\n",
      "                       doc_name  n_visits  n_surgeries  n_patients  \n",
      "0  C-15349090-NOMBRE*DEL*DOCTOR        22            3          31  \n",
      "1  C-31988075-NOMBRE*DEL*DOCTOR        37            1          43  \n",
      "2  C-39779019-NOMBRE*DEL*DOCTOR         5            1           5  \n",
      "3   C-8693061-NOMBRE*DEL*DOCTOR         6            3           8  \n",
      "4  C-10266901-NOMBRE*DEL*DOCTOR         6            1          25   \n",
      "\n",
      "<class 'pandas.core.frame.DataFrame'>\n",
      "RangeIndex: 2736 entries, 0 to 2735\n",
      "Data columns (total 7 columns):\n",
      "spec_code      2736 non-null int64\n",
      "spec_es        2736 non-null object\n",
      "year           2736 non-null int64\n",
      "doc_name       2736 non-null object\n",
      "n_visits       2736 non-null int64\n",
      "n_surgeries    2736 non-null int64\n",
      "n_patients     2736 non-null int64\n",
      "dtypes: int64(5), object(2)\n",
      "memory usage: 149.7+ KB\n",
      "None\n",
      "Column spec_code has 0 strings.\n",
      "Column spec_es has 2736 strings.\n",
      "Column year has 0 strings.\n",
      "Column doc_name has 2736 strings.\n",
      "Column n_visits has 0 strings.\n",
      "Column n_surgeries has 0 strings.\n",
      "Column n_patients has 0 strings.\n"
     ]
    }
   ],
   "source": [
    "## Organizing dataframe better: data_outpatient_2011.\n",
    "data_outpatient_2011 = pd.read_csv(file_in, header=0)\n",
    "data_outpatient_2011['year'] = [2011]*len(data_outpatient_2011)\n",
    "col_names = ['doc_name','spec_code','spec_es','n_visits','n_surgeries','n_patients','year']\n",
    "col_order = ['spec_code','spec_es','year','doc_name','n_visits','n_surgeries','n_patients']\n",
    "data_outpatient_2011.columns = col_names\n",
    "data_outpatient_2011 = data_outpatient_2011[col_order]\n",
    "\n",
    "data_outpatient_2011['spec_es'] = [i.lower() for i in data_outpatient_2011['spec_es']]\n",
    "\n",
    "print(data_outpatient_2011.head(),'\\n')\n",
    "print(data_outpatient_2011.info())\n",
    "for i in range(len(data_outpatient_2011.columns)):\n",
    "    i_name = data_outpatient_2011.iloc[:,i].name\n",
    "    i_value = sum(list(type(i)==str for i in data_outpatient_2011.iloc[:,i]))\n",
    "    print('Column', i_name, 'has', i_value, 'strings.')"
   ]
  },
  {
   "cell_type": "code",
   "execution_count": 4,
   "metadata": {},
   "outputs": [
    {
     "name": "stdout",
     "output_type": "stream",
     "text": [
      "   spec_code                       spec_es  year  doc_code  \\\n",
      "0         22  anestesiologia y reanimacion  2011  15349090   \n",
      "1         22  anestesiologia y reanimacion  2011  31988075   \n",
      "2         22  anestesiologia y reanimacion  2011  39779019   \n",
      "3         22  anestesiologia y reanimacion  2011   8693061   \n",
      "4        120                   cardiologia  2011  10266901   \n",
      "\n",
      "                       doc_name  n_visits  n_surgeries  n_patients  \n",
      "0  C-15349090-NOMBRE*DEL*DOCTOR        22            3          31  \n",
      "1  C-31988075-NOMBRE*DEL*DOCTOR        37            1          43  \n",
      "2  C-39779019-NOMBRE*DEL*DOCTOR         5            1           5  \n",
      "3   C-8693061-NOMBRE*DEL*DOCTOR         6            3           8  \n",
      "4  C-10266901-NOMBRE*DEL*DOCTOR         6            1          25   \n",
      "\n",
      "<class 'pandas.core.frame.DataFrame'>\n",
      "RangeIndex: 2736 entries, 0 to 2735\n",
      "Data columns (total 8 columns):\n",
      "spec_code      2736 non-null int64\n",
      "spec_es        2736 non-null object\n",
      "year           2736 non-null int64\n",
      "doc_code       2736 non-null int64\n",
      "doc_name       2736 non-null object\n",
      "n_visits       2736 non-null int64\n",
      "n_surgeries    2736 non-null int64\n",
      "n_patients     2736 non-null int64\n",
      "dtypes: int64(6), object(2)\n",
      "memory usage: 171.1+ KB\n",
      "None\n",
      "Column spec_code has 0 strings.\n",
      "Column spec_es has 2736 strings.\n",
      "Column year has 0 strings.\n",
      "Column doc_code has 0 strings.\n",
      "Column doc_name has 2736 strings.\n",
      "Column n_visits has 0 strings.\n",
      "Column n_surgeries has 0 strings.\n",
      "Column n_patients has 0 strings.\n"
     ]
    }
   ],
   "source": [
    "## Getting code for doctor, doc_code, and adding it to data_outpatient_2011.\n",
    "doc_code = []\n",
    "for i in data_outpatient_2011['doc_name']:\n",
    "    for j in i.split('-'):\n",
    "        if j.isdigit():\n",
    "            doc_code.append(int(j))\n",
    "\n",
    "## Alternative code one.\n",
    "#doc_code = [int(j) for i in data_outpatient_2011['doc_name'] for j in i.split('-') if j.isdigit()]            \n",
    "\n",
    "## Alternative code two.\n",
    "#doc_code = []\n",
    "#for i in data_outpatient_2011['doc_name']:\n",
    "#    temp = re.findall(r'\\d+', i) \n",
    "#    res = list(map(int, temp))\n",
    "#    doc_code.append(res[0])\n",
    "\n",
    "data_outpatient_2011['doc_code'] = doc_code\n",
    "col_order = ['spec_code','spec_es','year','doc_code','doc_name','n_visits','n_surgeries','n_patients']\n",
    "data_outpatient_2011 = data_outpatient_2011[col_order]\n",
    "\n",
    "print(data_outpatient_2011.head(),'\\n')\n",
    "print(data_outpatient_2011.info())\n",
    "for i in range(len(data_outpatient_2011.columns)):\n",
    "    i_name = data_outpatient_2011.iloc[:,i].name\n",
    "    i_value = sum(list(type(i)==str for i in data_outpatient_2011.iloc[:,i]))\n",
    "    print('Column', i_name, 'has', i_value, 'strings.')"
   ]
  },
  {
   "cell_type": "code",
   "execution_count": 5,
   "metadata": {},
   "outputs": [
    {
     "name": "stdout",
     "output_type": "stream",
     "text": [
      "   spec_code                       spec_es  year  doc_code  \\\n",
      "0         22  anestesiologia y reanimacion  2011  15349090   \n",
      "1         22  anestesiologia y reanimacion  2011  31988075   \n",
      "2         22  anestesiologia y reanimacion  2011  39779019   \n",
      "3         22  anestesiologia y reanimacion  2011   8693061   \n",
      "4        120                   cardiologia  2011  98561217   \n",
      "5        120                   cardiologia  2011  71622813   \n",
      "6        120                   cardiologia  2011  71593942   \n",
      "7        120                   cardiologia  2011  70115939   \n",
      "8        120                   cardiologia  2011  19188542   \n",
      "9        120                   cardiologia  2011  98561217   \n",
      "\n",
      "                        doc_name  n_visits  n_surgeries  n_patients  \n",
      "0   C-15349090-NOMBRE*DEL*DOCTOR        22            3          31  \n",
      "1   C-31988075-NOMBRE*DEL*DOCTOR        37            1          43  \n",
      "2   C-39779019-NOMBRE*DEL*DOCTOR         5            1           5  \n",
      "3    C-8693061-NOMBRE*DEL*DOCTOR         6            3           8  \n",
      "4  CC-98561217-NOMBRE*DEL*DOCTOR        19            1          16  \n",
      "5  CC-71622813-NOMBRE*DEL*DOCTOR       135           21         131  \n",
      "6  CC-71593942-NOMBRE*DEL*DOCTOR       237           47         220  \n",
      "7  CC-70115939-NOMBRE*DEL*DOCTOR       320           59         329  \n",
      "8  CC-19188542-NOMBRE*DEL*DOCTOR        20            1          17  \n",
      "9   C-98561217-NOMBRE*DEL*DOCTOR        48            6          45   \n",
      "\n"
     ]
    }
   ],
   "source": [
    "## Sorting by spec_code and reseting index.\n",
    "data_outpatient_2011.sort_values('spec_code', inplace=True)\n",
    "data_outpatient_2011.reset_index(drop=True, inplace=True)\n",
    "print(data_outpatient_2011.head(10),'\\n')\n",
    "\n",
    "## Saving data_outpatient_2011 as csv to data folder.\n",
    "if os.path.exists('data/data_outpatient_2011.csv'):\n",
    "    print('data_outpatient_2011.csv already exists')\n",
    "elif os.path.exists('data'):\n",
    "    file_out = 'data/data_outpatient_2011.csv'\n",
    "    data_outpatient_2011.to_csv(path_or_buf=file_out, index=False)\n",
    "else:\n",
    "    os.mkdir('data')\n",
    "    file_out = 'data/data_outpatient_2011.csv'\n",
    "    data_outpatient_2011.to_csv(path_or_buf=file_out, index=False)"
   ]
  },
  {
   "cell_type": "code",
   "execution_count": null,
   "metadata": {},
   "outputs": [],
   "source": []
  }
 ],
 "metadata": {
  "kernelspec": {
   "display_name": "Python 3",
   "language": "python",
   "name": "python3"
  },
  "language_info": {
   "codemirror_mode": {
    "name": "ipython",
    "version": 3
   },
   "file_extension": ".py",
   "mimetype": "text/x-python",
   "name": "python",
   "nbconvert_exporter": "python",
   "pygments_lexer": "ipython3",
   "version": "3.7.3"
  }
 },
 "nbformat": 4,
 "nbformat_minor": 2
}
