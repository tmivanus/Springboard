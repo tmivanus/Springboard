{
 "cells": [
  {
   "cell_type": "code",
   "execution_count": 1,
   "metadata": {},
   "outputs": [],
   "source": [
    "## Relevant modules.\n",
    "import pandas as pd\n",
    "import seaborn as sns\n",
    "import numpy as np\n",
    "import matplotlib.pyplot as plt\n",
    "from itertools import combinations "
   ]
  },
  {
   "cell_type": "code",
   "execution_count": 2,
   "metadata": {},
   "outputs": [
    {
     "name": "stdout",
     "output_type": "stream",
     "text": [
      "<class 'pandas.core.frame.DataFrame'>\n",
      "Int64Index: 2552 entries, 0 to 2551\n",
      "Data columns (total 19 columns):\n",
      "doc_code            2552 non-null int64\n",
      "spec_code           2552 non-null int64\n",
      "spec_es             2552 non-null object\n",
      "spec_en             2552 non-null object\n",
      "year                2552 non-null int64\n",
      "n_visits            2552 non-null int64\n",
      "n_surgeries         2552 non-null int64\n",
      "n_patients          2552 non-null int64\n",
      "c_visit             2552 non-null float64\n",
      "c_surgery           2552 non-null float64\n",
      "dep_code            2552 non-null int64\n",
      "department          2552 non-null object\n",
      "surgeries2visits    2552 non-null float64\n",
      "spec_der            2552 non-null uint8\n",
      "spec_gyn            2552 non-null uint8\n",
      "spec_oph            2552 non-null uint8\n",
      "spec_oto            2552 non-null uint8\n",
      "dep_ant             2552 non-null uint8\n",
      "dep_val             2552 non-null uint8\n",
      "dtypes: float64(3), int64(7), object(3), uint8(6)\n",
      "memory usage: 294.1+ KB\n",
      "None\n"
     ]
    }
   ],
   "source": [
    "## Reading file.\n",
    "file = 'data/data_panel.csv'\n",
    "panel = pd.read_csv(file, header=0)\n",
    "\n",
    "## Group with 4 specialties, 2 departments and 5 years.\n",
    "## This group has more than 30 observations (doctors)...\n",
    "## ...for each specialty in each department in each year.\n",
    "\n",
    "group_1 = panel.groupby(['spec_code','dep_code','year'])[['doc_code']].count()\n",
    "group_1.rename(columns={'doc_code': 'doc_count'}, inplace=True)\n",
    "group_1 = group_1[group_1['doc_count'] > 30].reset_index()\n",
    "\n",
    "group_2 = group_1.groupby(['spec_code','dep_code'])[['year']].count()\n",
    "group_2.rename(columns={'year': 'year_count'}, inplace=True)\n",
    "group_2 = group_2[group_2['year_count'] == 5].reset_index()\n",
    "\n",
    "group_3 = group_2.groupby(['spec_code'])[['dep_code']].count()\n",
    "group_3.rename(columns={'dep_code': 'dep_count'}, inplace=True)\n",
    "group_3 = group_3[group_3['dep_count'] > 1].reset_index()\n",
    "\n",
    "merge_3_2 = pd.merge(group_3, group_2, on=['spec_code'])\n",
    "merge_3_2_1 = pd.merge(merge_3_2, group_1, on=['spec_code','dep_code'])\n",
    "group = merge_3_2_1.drop(['year_count','dep_count'], axis=1)\n",
    "\n",
    "## Subpanel from original panel taking into account only the above group.\n",
    "## There are 2552 entries instead of 8294 entries. \n",
    "## Variable surgeries2visits and dummies for each specialty and department are created.\n",
    "\n",
    "subpanel = pd.merge(panel, group, on=['spec_code','dep_code','year'])\n",
    "subpanel.drop('doc_count', axis=1, inplace=True)\n",
    "subpanel['surgeries2visits']=subpanel['n_surgeries']/subpanel['n_visits']\n",
    "\n",
    "dummies = pd.get_dummies(subpanel[['spec_en','department']])\n",
    "dummies_old_names = list(dummies.columns.values)\n",
    "dummies_new_names = []\n",
    "\n",
    "for i in dummies_old_names:\n",
    "    if i[0:4] == 'spec':\n",
    "        dummies_new_names.append(i[0:4]+i[7:11])\n",
    "    elif i[0:4] == 'depa':\n",
    "        dummies_new_names.append(i[0:3]+i[10:14])\n",
    "\n",
    "dummies_dic_names = dict(zip(dummies_old_names, dummies_new_names))\n",
    "dummies.rename(columns=dummies_dic_names,inplace=True)\n",
    "\n",
    "subpanel = pd.concat([subpanel,dummies],axis=1)\n",
    "print(subpanel.info())"
   ]
  },
  {
   "cell_type": "markdown",
   "metadata": {},
   "source": [
    "Using supervised classification to predict excessive number of surgeries.  \n",
    "First, we need to define what excessive number of surgeries should be.  \n",
    "We need to pay attention to the fact that number of surgeries is not normally distributed."
   ]
  },
  {
   "cell_type": "code",
   "execution_count": 3,
   "metadata": {},
   "outputs": [
    {
     "name": "stdout",
     "output_type": "stream",
     "text": [
      "count    2552.000000\n",
      "mean       20.603840\n",
      "std        36.551873\n",
      "min         1.000000\n",
      "25%         2.750000\n",
      "50%         7.000000\n",
      "75%        21.000000\n",
      "max       447.000000\n",
      "Name: n_surgeries, dtype: float64\n"
     ]
    },
    {
     "data": {
      "image/png": "[encoded data removed]",
      "text/plain": [
       "<Figure size 432x288 with 1 Axes>"
      ]
     },
     "metadata": {
      "needs_background": "light"
     },
     "output_type": "display_data"
    }
   ],
   "source": [
    "print(subpanel['n_surgeries'].describe())\n",
    "fig = sns.distplot(subpanel['n_surgeries'])"
   ]
  },
  {
   "cell_type": "markdown",
   "metadata": {},
   "source": [
    "Because number of surgeries is not normally distributed, instead of using mean and std, we are going to use a certain percentile to define the threshold of what constitutes excessive number of surgeries."
   ]
  },
  {
   "cell_type": "code",
   "execution_count": 4,
   "metadata": {},
   "outputs": [
    {
     "name": "stdout",
     "output_type": "stream",
     "text": [
      "New variable: ex_surgeries (excessive surgeries).\n",
      "Criterion for ex_surgeries = 1:\n",
      "n_surgeries >= than the 70 percentile.\n",
      "\n",
      "count    2552.000000\n",
      "mean        0.306426\n",
      "std         0.461099\n",
      "min         0.000000\n",
      "25%         0.000000\n",
      "50%         0.000000\n",
      "75%         1.000000\n",
      "max         1.000000\n",
      "Name: ex_surgeries, dtype: float64\n"
     ]
    }
   ],
   "source": [
    "v_percentile = 70\n",
    "surgeries_threshold = np.percentile(subpanel['n_surgeries'], v_percentile)\n",
    "subpanel['ex_surgeries'] = [1 if i >= surgeries_threshold\n",
    "                            else 0 for i in subpanel['n_surgeries']]\n",
    "\n",
    "print('New variable: ex_surgeries (excessive surgeries).')\n",
    "print('Criterion for ex_surgeries = 1:')\n",
    "print('n_surgeries >= than the',v_percentile,'percentile.\\n')\n",
    "print(subpanel['ex_surgeries'].describe())"
   ]
  },
  {
   "cell_type": "markdown",
   "metadata": {},
   "source": [
    "Now we are going to perform different types of supervised classification."
   ]
  },
  {
   "cell_type": "code",
   "execution_count": 5,
   "metadata": {},
   "outputs": [],
   "source": [
    "## Getting the necessary modules (tools).\n",
    "from sklearn.preprocessing import StandardScaler\n",
    "from sklearn.pipeline import Pipeline\n",
    "from sklearn.model_selection import train_test_split\n",
    "from sklearn.model_selection import GridSearchCV\n",
    "from sklearn.model_selection import RandomizedSearchCV\n",
    "from sklearn.linear_model import LogisticRegression\n",
    "from sklearn.neighbors import KNeighborsClassifier\n",
    "from sklearn.tree import DecisionTreeClassifier\n",
    "from sklearn.svm import SVC\n",
    "from sklearn.metrics import classification_report"
   ]
  },
  {
   "cell_type": "code",
   "execution_count": 6,
   "metadata": {},
   "outputs": [],
   "source": [
    "## Defining attributes X and target y.\n",
    "X_list = ['n_visits','spec_gyn','spec_oph','spec_oto','dep_ant','year']\n",
    "X = subpanel[X_list].astype(float).values\n",
    "y = subpanel['ex_surgeries'].astype(float).values"
   ]
  },
  {
   "cell_type": "code",
   "execution_count": 7,
   "metadata": {},
   "outputs": [
    {
     "name": "stdout",
     "output_type": "stream",
     "text": [
      "Using logistic regression.\n",
      "Accuracy: 0.8714733542319749\n",
      "              precision    recall  f1-score   support\n",
      "\n",
      "         0.0       0.88      0.94      0.91       449\n",
      "         1.0       0.83      0.71      0.77       189\n",
      "\n",
      "   micro avg       0.87      0.87      0.87       638\n",
      "   macro avg       0.86      0.82      0.84       638\n",
      "weighted avg       0.87      0.87      0.87       638\n",
      "\n",
      "Tuned Model Parameters: {'logreg__C': 0.21191919191919192}\n"
     ]
    }
   ],
   "source": [
    "## Using logistic regression.\n",
    "\n",
    "## Setup the pipeline.\n",
    "steps = [('scaler', StandardScaler()),\n",
    "         ('logreg', LogisticRegression(solver='lbfgs'))]\n",
    "pipeline = Pipeline(steps)\n",
    "\n",
    "## Specify the hyperparameter space.\n",
    "c_space = np.linspace(0.01, 20, 100)\n",
    "parameters = {'logreg__C':c_space}\n",
    "\n",
    "## Create train and test sets.\n",
    "X_train, X_test, y_train, y_test = train_test_split(X, y, test_size=0.25, random_state=5)\n",
    "\n",
    "## Instantiate the GridSearchCV object: cv.\n",
    "cv = GridSearchCV(pipeline, param_grid=parameters, cv=5)\n",
    "\n",
    "## Fit to the training set.\n",
    "cv.fit(X_train, y_train)\n",
    "\n",
    "## Predict the labels of the test set: y_pred.\n",
    "y_pred = cv.predict(X_test)\n",
    "\n",
    "## Compute and print metrics.\n",
    "print('Using logistic regression.')\n",
    "print(\"Accuracy: {}\".format(cv.score(X_test, y_test)))\n",
    "print(classification_report(y_test, y_pred))\n",
    "print(\"Tuned Model Parameters: {}\".format(cv.best_params_))"
   ]
  },
  {
   "cell_type": "code",
   "execution_count": 8,
   "metadata": {},
   "outputs": [
    {
     "name": "stdout",
     "output_type": "stream",
     "text": [
      "Using k-NN: k-nearest neighbors.\n",
      "Accuracy: 0.890282131661442\n",
      "              precision    recall  f1-score   support\n",
      "\n",
      "         0.0       0.90      0.94      0.92       449\n",
      "         1.0       0.85      0.76      0.80       189\n",
      "\n",
      "   micro avg       0.89      0.89      0.89       638\n",
      "   macro avg       0.88      0.85      0.86       638\n",
      "weighted avg       0.89      0.89      0.89       638\n",
      "\n",
      "Tuned Model Parameters: {'knn__n_neighbors': 7}\n"
     ]
    }
   ],
   "source": [
    "## Using k-NN: k-nearest neighbors.\n",
    "\n",
    "## Setup the pipeline.\n",
    "steps = [('scaler', StandardScaler()),\n",
    "         ('knn', KNeighborsClassifier())]\n",
    "pipeline = Pipeline(steps)\n",
    "\n",
    "## Specify the hyperparameter space.\n",
    "n_neighbors_space = np.linspace(1, 20, 20).astype(int)\n",
    "parameters = {'knn__n_neighbors':n_neighbors_space}\n",
    "\n",
    "## Create train and test sets.\n",
    "X_train, X_test, y_train, y_test = train_test_split(X, y, test_size=0.25, random_state=5)\n",
    "\n",
    "## Instantiate the GridSearchCV object: cv.\n",
    "cv = GridSearchCV(pipeline, param_grid=parameters, cv=5)\n",
    "\n",
    "## Fit to the training set.\n",
    "cv.fit(X_train, y_train)\n",
    "\n",
    "## Predict the labels of the test set: y_pred.\n",
    "y_pred = cv.predict(X_test)\n",
    "\n",
    "## Compute and print metrics.\n",
    "print('Using k-NN: k-nearest neighbors.')\n",
    "print(\"Accuracy: {}\".format(cv.score(X_test, y_test)))\n",
    "print(classification_report(y_test, y_pred))\n",
    "print(\"Tuned Model Parameters: {}\".format(cv.best_params_))"
   ]
  },
  {
   "cell_type": "code",
   "execution_count": 9,
   "metadata": {
    "scrolled": true
   },
   "outputs": [
    {
     "name": "stdout",
     "output_type": "stream",
     "text": [
      "Using decision tree with RandomizedSearchCV().\n",
      "Accuracy: 0.8056426332288401\n",
      "              precision    recall  f1-score   support\n",
      "\n",
      "         0.0       0.90      0.82      0.86       449\n",
      "         1.0       0.64      0.78      0.70       189\n",
      "\n",
      "   micro avg       0.81      0.81      0.81       638\n",
      "   macro avg       0.77      0.80      0.78       638\n",
      "weighted avg       0.82      0.81      0.81       638\n",
      "\n",
      "Tuned Model Parameters: {'tree__min_samples_leaf': 0.2, 'tree__max_features': 0.5, 'tree__max_depth': 4, 'tree__criterion': 'entropy'}\n"
     ]
    }
   ],
   "source": [
    "## Using decision tree.\n",
    "\n",
    "## Setup the pipeline.\n",
    "steps = [('scaler', StandardScaler()),\n",
    "         ('tree', DecisionTreeClassifier())]\n",
    "pipeline = Pipeline(steps)\n",
    "\n",
    "## Specify the hyperparameter space.\n",
    "parameters = {'tree__max_depth': [0.1, 0.5, 1, 2, 3, 4, 5, None],\n",
    "              'tree__max_features': [0.1, 0.5, 1, 2, 'auto', 'sqrt', 'log2', None],\n",
    "              'tree__min_samples_leaf': [0.01, 0.05, 0.1, 0.2, 0.3, 0.4, 0.5, 1],\n",
    "              'tree__criterion': [\"gini\", \"entropy\"]}\n",
    "\n",
    "## Create train and test sets.\n",
    "X_train, X_test, y_train, y_test = train_test_split(X, y, test_size=0.25, random_state=5)\n",
    "\n",
    "## Instantiate the GridSearchCV object: cv.\n",
    "cv = RandomizedSearchCV(pipeline, param_distributions=parameters, cv=5)\n",
    "#cv = GridSearchCV(pipeline, param_grid=parameters, cv=5)\n",
    "\n",
    "## Fit to the training set.\n",
    "cv.fit(X_train, y_train)\n",
    "\n",
    "## Predict the labels of the test set: y_pred.\n",
    "y_pred = cv.predict(X_test)\n",
    "\n",
    "## Compute and print metrics.\n",
    "print('Using decision tree with RandomizedSearchCV().')\n",
    "print(\"Accuracy: {}\".format(cv.score(X_test, y_test)))\n",
    "print(classification_report(y_test, y_pred))\n",
    "print(\"Tuned Model Parameters: {}\".format(cv.best_params_))"
   ]
  },
  {
   "cell_type": "code",
   "execution_count": 10,
   "metadata": {},
   "outputs": [
    {
     "name": "stdout",
     "output_type": "stream",
     "text": [
      "Using SVM: Support Vector Machine.\n",
      "Accuracy: 0.8793103448275862\n",
      "              precision    recall  f1-score   support\n",
      "\n",
      "         0.0       0.90      0.93      0.92       449\n",
      "         1.0       0.83      0.75      0.79       189\n",
      "\n",
      "   micro avg       0.88      0.88      0.88       638\n",
      "   macro avg       0.86      0.84      0.85       638\n",
      "weighted avg       0.88      0.88      0.88       638\n",
      "\n",
      "Tuned Model Parameters: {'SVM__C': 10, 'SVM__gamma': 0.01}\n"
     ]
    }
   ],
   "source": [
    "## Using SVM: Support Vector Machine.\n",
    "\n",
    "## Setup the pipeline.\n",
    "steps = [('scaler', StandardScaler()),\n",
    "         ('SVM', SVC())]\n",
    "pipeline = Pipeline(steps)\n",
    "\n",
    "## Specify the hyperparameter space.\n",
    "parameters = {'SVM__C':[1, 10, 100],\n",
    "              'SVM__gamma':[0.1, 0.01]}\n",
    "\n",
    "## Create train and test sets.\n",
    "X_train, X_test, y_train, y_test = train_test_split(X, y, test_size=0.25, random_state=5)\n",
    "\n",
    "## Instantiate the GridSearchCV object: cv.\n",
    "cv = GridSearchCV(pipeline, param_grid=parameters, cv=5)\n",
    "\n",
    "## Fit to the training set.\n",
    "cv.fit(X_train, y_train)\n",
    "\n",
    "## Predict the labels of the test set: y_pred.\n",
    "y_pred = cv.predict(X_test)\n",
    "\n",
    "## Compute and print metrics.\n",
    "print('Using SVM: Support Vector Machine.')\n",
    "print(\"Accuracy: {}\".format(cv.score(X_test, y_test)))\n",
    "print(classification_report(y_test, y_pred))\n",
    "print(\"Tuned Model Parameters: {}\".format(cv.best_params_))"
   ]
  },
  {
   "cell_type": "markdown",
   "metadata": {},
   "source": [
    "Conclusion: k-NN with 7 neighbors seems to be the best classifier."
   ]
  },
  {
   "cell_type": "code",
   "execution_count": null,
   "metadata": {},
   "outputs": [],
   "source": []
  }
 ],
 "metadata": {
  "kernelspec": {
   "display_name": "Python 3",
   "language": "python",
   "name": "python3"
  },
  "language_info": {
   "codemirror_mode": {
    "name": "ipython",
    "version": 3
   },
   "file_extension": ".py",
   "mimetype": "text/x-python",
   "name": "python",
   "nbconvert_exporter": "python",
   "pygments_lexer": "ipython3",
   "version": "3.7.3"
  }
 },
 "nbformat": 4,
 "nbformat_minor": 2
}
