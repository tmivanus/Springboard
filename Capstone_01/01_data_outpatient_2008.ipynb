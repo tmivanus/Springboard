{
 "cells": [
  {
   "cell_type": "code",
   "execution_count": 1,
   "metadata": {},
   "outputs": [],
   "source": [
    "## Relevant modules.\n",
    "import pandas as pd\n",
    "import os\n",
    "## Optional for alternative code two (see forth cell below)\n",
    "#import re"
   ]
  },
  {
   "cell_type": "code",
   "execution_count": 2,
   "metadata": {},
   "outputs": [
    {
     "name": "stdout",
     "output_type": "stream",
     "text": [
      "                          MEDICO  COD_ESPEC                  ESPECIALIDAD  \\\n",
      "0  CC-16449291-NOMBRE*DEL*DOCTOR         22  ANESTESIOLOGIA Y REANIMACION   \n",
      "1  CC-31865019-NOMBRE*DEL*DOCTOR         22  ANESTESIOLOGIA Y REANIMACION   \n",
      "2   CC-8682278-NOMBRE*DEL*DOCTOR         22  ANESTESIOLOGIA Y REANIMACION   \n",
      "3  CC-19188542-NOMBRE*DEL*DOCTOR        120                   CARDIOLOGIA   \n",
      "4  CC-70115939-NOMBRE*DEL*DOCTOR        120                   CARDIOLOGIA   \n",
      "\n",
      "   NO CONSULTAS  NO CIRUGIAS  NO PACIENTES  \n",
      "0            59            1            67  \n",
      "1            85            2            89  \n",
      "2             6            4             6  \n",
      "3            24            3            24  \n",
      "4           429          104           430  \n"
     ]
    }
   ],
   "source": [
    "## First look at the original dataframe: data_outpatient_2008_firstlook.\n",
    "file_in = 'original_data/datos_ambulatorios_2008_new.csv'\n",
    "data_outpatient_2008_firstlook = pd.read_csv(file_in)\n",
    "print(data_outpatient_2008_firstlook.head())"
   ]
  },
  {
   "cell_type": "code",
   "execution_count": 3,
   "metadata": {},
   "outputs": [
    {
     "name": "stdout",
     "output_type": "stream",
     "text": [
      "   spec_code                       spec_es  year  \\\n",
      "0         22  anestesiologia y reanimacion  2008   \n",
      "1         22  anestesiologia y reanimacion  2008   \n",
      "2         22  anestesiologia y reanimacion  2008   \n",
      "3        120                   cardiologia  2008   \n",
      "4        120                   cardiologia  2008   \n",
      "\n",
      "                        doc_name  n_visits  n_surgeries  n_patients  \n",
      "0  CC-16449291-NOMBRE*DEL*DOCTOR        59            1          67  \n",
      "1  CC-31865019-NOMBRE*DEL*DOCTOR        85            2          89  \n",
      "2   CC-8682278-NOMBRE*DEL*DOCTOR         6            4           6  \n",
      "3  CC-19188542-NOMBRE*DEL*DOCTOR        24            3          24  \n",
      "4  CC-70115939-NOMBRE*DEL*DOCTOR       429          104         430   \n",
      "\n",
      "<class 'pandas.core.frame.DataFrame'>\n",
      "RangeIndex: 1600 entries, 0 to 1599\n",
      "Data columns (total 7 columns):\n",
      "spec_code      1600 non-null int64\n",
      "spec_es        1600 non-null object\n",
      "year           1600 non-null int64\n",
      "doc_name       1600 non-null object\n",
      "n_visits       1600 non-null int64\n",
      "n_surgeries    1600 non-null int64\n",
      "n_patients     1600 non-null int64\n",
      "dtypes: int64(5), object(2)\n",
      "memory usage: 87.6+ KB\n",
      "None\n",
      "Column spec_code has 0 strings.\n",
      "Column spec_es has 1600 strings.\n",
      "Column year has 0 strings.\n",
      "Column doc_name has 1600 strings.\n",
      "Column n_visits has 0 strings.\n",
      "Column n_surgeries has 0 strings.\n",
      "Column n_patients has 0 strings.\n"
     ]
    }
   ],
   "source": [
    "## Organizing dataframe better: data_outpatient_2008.\n",
    "data_outpatient_2008 = pd.read_csv(file_in, header=0)\n",
    "data_outpatient_2008['year'] = [2008]*len(data_outpatient_2008)\n",
    "col_names = ['doc_name','spec_code','spec_es','n_visits','n_surgeries','n_patients','year']\n",
    "col_order = ['spec_code','spec_es','year','doc_name','n_visits','n_surgeries','n_patients']\n",
    "data_outpatient_2008.columns = col_names\n",
    "data_outpatient_2008 = data_outpatient_2008[col_order]\n",
    "\n",
    "data_outpatient_2008['spec_es'] = [i.lower() for i in data_outpatient_2008['spec_es']]\n",
    "\n",
    "print(data_outpatient_2008.head(),'\\n')\n",
    "print(data_outpatient_2008.info())\n",
    "for i in range(len(data_outpatient_2008.columns)):\n",
    "    i_name = data_outpatient_2008.iloc[:,i].name\n",
    "    i_value = sum(list(type(i)==str for i in data_outpatient_2008.iloc[:,i]))\n",
    "    print('Column', i_name, 'has', i_value, 'strings.')"
   ]
  },
  {
   "cell_type": "code",
   "execution_count": 4,
   "metadata": {},
   "outputs": [
    {
     "name": "stdout",
     "output_type": "stream",
     "text": [
      "   spec_code                       spec_es  year  doc_code  \\\n",
      "0         22  anestesiologia y reanimacion  2008  16449291   \n",
      "1         22  anestesiologia y reanimacion  2008  31865019   \n",
      "2         22  anestesiologia y reanimacion  2008   8682278   \n",
      "3        120                   cardiologia  2008  19188542   \n",
      "4        120                   cardiologia  2008  70115939   \n",
      "\n",
      "                        doc_name  n_visits  n_surgeries  n_patients  \n",
      "0  CC-16449291-NOMBRE*DEL*DOCTOR        59            1          67  \n",
      "1  CC-31865019-NOMBRE*DEL*DOCTOR        85            2          89  \n",
      "2   CC-8682278-NOMBRE*DEL*DOCTOR         6            4           6  \n",
      "3  CC-19188542-NOMBRE*DEL*DOCTOR        24            3          24  \n",
      "4  CC-70115939-NOMBRE*DEL*DOCTOR       429          104         430   \n",
      "\n",
      "<class 'pandas.core.frame.DataFrame'>\n",
      "RangeIndex: 1600 entries, 0 to 1599\n",
      "Data columns (total 8 columns):\n",
      "spec_code      1600 non-null int64\n",
      "spec_es        1600 non-null object\n",
      "year           1600 non-null int64\n",
      "doc_code       1600 non-null int64\n",
      "doc_name       1600 non-null object\n",
      "n_visits       1600 non-null int64\n",
      "n_surgeries    1600 non-null int64\n",
      "n_patients     1600 non-null int64\n",
      "dtypes: int64(6), object(2)\n",
      "memory usage: 100.1+ KB\n",
      "None\n",
      "Column spec_code has 0 strings.\n",
      "Column spec_es has 1600 strings.\n",
      "Column year has 0 strings.\n",
      "Column doc_code has 0 strings.\n",
      "Column doc_name has 1600 strings.\n",
      "Column n_visits has 0 strings.\n",
      "Column n_surgeries has 0 strings.\n",
      "Column n_patients has 0 strings.\n"
     ]
    }
   ],
   "source": [
    "## Getting code for doctor, doc_code, and adding it to data_outpatient_2008.\n",
    "doc_code = []\n",
    "for i in data_outpatient_2008['doc_name']:\n",
    "    for j in i.split('-'):\n",
    "        if j.isdigit():\n",
    "            doc_code.append(int(j))\n",
    "\n",
    "## Alternative code one.\n",
    "#doc_code = [int(j) for i in data_outpatient_2008['doc_name'] for j in i.split('-') if j.isdigit()]            \n",
    "\n",
    "## Alternative code two.\n",
    "#doc_code = []\n",
    "#for i in data_outpatient_2008['doc_name']:\n",
    "#    temp = re.findall(r'\\d+', i) \n",
    "#    res = list(map(int, temp))\n",
    "#    doc_code.append(res[0])\n",
    "\n",
    "data_outpatient_2008['doc_code'] = doc_code\n",
    "col_order = ['spec_code','spec_es','year','doc_code','doc_name','n_visits','n_surgeries','n_patients']\n",
    "data_outpatient_2008 = data_outpatient_2008[col_order]\n",
    "\n",
    "print(data_outpatient_2008.head(),'\\n')\n",
    "print(data_outpatient_2008.info())\n",
    "for i in range(len(data_outpatient_2008.columns)):\n",
    "    i_name = data_outpatient_2008.iloc[:,i].name\n",
    "    i_value = sum(list(type(i)==str for i in data_outpatient_2008.iloc[:,i]))\n",
    "    print('Column', i_name, 'has', i_value, 'strings.')"
   ]
  },
  {
   "cell_type": "code",
   "execution_count": 5,
   "metadata": {},
   "outputs": [
    {
     "name": "stdout",
     "output_type": "stream",
     "text": [
      "   spec_code                       spec_es  year  doc_code  n_visits  \\\n",
      "0         22  anestesiologia y reanimacion  2008  16449291        59   \n",
      "1         22  anestesiologia y reanimacion  2008  31865019        85   \n",
      "2         22  anestesiologia y reanimacion  2008   8682278         6   \n",
      "3        120                   cardiologia  2008  19188542        24   \n",
      "4        120                   cardiologia  2008  70115939       429   \n",
      "5        120                   cardiologia  2008  71593942       348   \n",
      "6        120                   cardiologia  2008  71622813       354   \n",
      "7        120                   cardiologia  2008  73085294        61   \n",
      "8        130        cirugia cardiovascular  2008  98543766        13   \n",
      "9        130        cirugia cardiovascular  2008   8313225        22   \n",
      "\n",
      "   n_surgeries  n_patients  \n",
      "0            1          67  \n",
      "1            2          89  \n",
      "2            4           6  \n",
      "3            3          24  \n",
      "4          104         430  \n",
      "5           61         311  \n",
      "6           40         345  \n",
      "7            1          36  \n",
      "8            1          12  \n",
      "9            6          23   \n",
      "\n"
     ]
    }
   ],
   "source": [
    "## Sorting by spec_code and reseting index.\n",
    "data_outpatient_2008.drop('doc_name', axis=1, inplace=True)\n",
    "data_outpatient_2008.sort_values('spec_code', inplace=True)\n",
    "data_outpatient_2008.reset_index(drop=True, inplace=True)\n",
    "print(data_outpatient_2008.head(10),'\\n')\n",
    "\n",
    "## Saving data_outpatient_2008 as csv to data folder.\n",
    "if os.path.exists('data/data_outpatient_2008.csv'):\n",
    "    print('data_outpatient_2008.csv already exists')\n",
    "elif os.path.exists('data'):\n",
    "    file_out = 'data/data_outpatient_2008.csv'\n",
    "    data_outpatient_2008.to_csv(path_or_buf=file_out, index=False)\n",
    "else:\n",
    "    os.mkdir('data')\n",
    "    file_out = 'data/data_outpatient_2008.csv'\n",
    "    data_outpatient_2008.to_csv(path_or_buf=file_out, index=False)"
   ]
  },
  {
   "cell_type": "code",
   "execution_count": null,
   "metadata": {},
   "outputs": [],
   "source": []
  }
 ],
 "metadata": {
  "kernelspec": {
   "display_name": "Python 3",
   "language": "python",
   "name": "python3"
  },
  "language_info": {
   "codemirror_mode": {
    "name": "ipython",
    "version": 3
   },
   "file_extension": ".py",
   "mimetype": "text/x-python",
   "name": "python",
   "nbconvert_exporter": "python",
   "pygments_lexer": "ipython3",
   "version": "3.7.3"
  }
 },
 "nbformat": 4,
 "nbformat_minor": 2
}
