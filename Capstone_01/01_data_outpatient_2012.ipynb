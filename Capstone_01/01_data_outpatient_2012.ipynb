{
 "cells": [
  {
   "cell_type": "code",
   "execution_count": 1,
   "metadata": {},
   "outputs": [],
   "source": [
    "## Relevant modules.\n",
    "import pandas as pd\n",
    "import os\n",
    "## Optional for alternative code two (see forth cell below)\n",
    "#import re"
   ]
  },
  {
   "cell_type": "code",
   "execution_count": 2,
   "metadata": {},
   "outputs": [
    {
     "name": "stdout",
     "output_type": "stream",
     "text": [
      "                         MEDICO  COD_ESPEC                  ESPECIALIDAD  \\\n",
      "0  C-31988075-NOMBRE*DEL*DOCTOR         22  ANESTESIOLOGIA Y REANIMACION   \n",
      "1  C-39779019-NOMBRE*DEL*DOCTOR         22  ANESTESIOLOGIA Y REANIMACION   \n",
      "2  C-73071180-NOMBRE*DEL*DOCTOR         22  ANESTESIOLOGIA Y REANIMACION   \n",
      "3  C-19188542-NOMBRE*DEL*DOCTOR        120                   CARDIOLOGIA   \n",
      "4  C-70115939-NOMBRE*DEL*DOCTOR        120                   CARDIOLOGIA   \n",
      "\n",
      "   NO CONSULTAS  NO CIRUGIAS  NO PACIENTES  \n",
      "0            72            2            76  \n",
      "1            38            1            30  \n",
      "2           113            1           125  \n",
      "3            96           10            75  \n",
      "4           730          207           565  \n"
     ]
    }
   ],
   "source": [
    "## First look at the original dataframe: data_outpatient_2012_firstlook.\n",
    "file_in = 'original_data/datos_ambulatorios_2012_new.csv'\n",
    "data_outpatient_2012_firstlook = pd.read_csv(file_in)\n",
    "print(data_outpatient_2012_firstlook.head())"
   ]
  },
  {
   "cell_type": "code",
   "execution_count": 3,
   "metadata": {},
   "outputs": [
    {
     "name": "stdout",
     "output_type": "stream",
     "text": [
      "   spec_code                       spec_es  year  \\\n",
      "0         22  anestesiologia y reanimacion  2012   \n",
      "1         22  anestesiologia y reanimacion  2012   \n",
      "2         22  anestesiologia y reanimacion  2012   \n",
      "3        120                   cardiologia  2012   \n",
      "4        120                   cardiologia  2012   \n",
      "\n",
      "                       doc_name  n_visits  n_surgeries  n_patients  \n",
      "0  C-31988075-NOMBRE*DEL*DOCTOR        72            2          76  \n",
      "1  C-39779019-NOMBRE*DEL*DOCTOR        38            1          30  \n",
      "2  C-73071180-NOMBRE*DEL*DOCTOR       113            1         125  \n",
      "3  C-19188542-NOMBRE*DEL*DOCTOR        96           10          75  \n",
      "4  C-70115939-NOMBRE*DEL*DOCTOR       730          207         565   \n",
      "\n",
      "<class 'pandas.core.frame.DataFrame'>\n",
      "RangeIndex: 1837 entries, 0 to 1836\n",
      "Data columns (total 7 columns):\n",
      "spec_code      1837 non-null int64\n",
      "spec_es        1837 non-null object\n",
      "year           1837 non-null int64\n",
      "doc_name       1837 non-null object\n",
      "n_visits       1837 non-null int64\n",
      "n_surgeries    1837 non-null int64\n",
      "n_patients     1837 non-null int64\n",
      "dtypes: int64(5), object(2)\n",
      "memory usage: 100.5+ KB\n",
      "None\n",
      "Column spec_code has 0 strings.\n",
      "Column spec_es has 1837 strings.\n",
      "Column year has 0 strings.\n",
      "Column doc_name has 1837 strings.\n",
      "Column n_visits has 0 strings.\n",
      "Column n_surgeries has 0 strings.\n",
      "Column n_patients has 0 strings.\n"
     ]
    }
   ],
   "source": [
    "## Organizing dataframe better: data_outpatient_2012.\n",
    "data_outpatient_2012 = pd.read_csv(file_in, header=0)\n",
    "data_outpatient_2012['year'] = [2012]*len(data_outpatient_2012)\n",
    "col_names = ['doc_name','spec_code','spec_es','n_visits','n_surgeries','n_patients','year']\n",
    "col_order = ['spec_code','spec_es','year','doc_name','n_visits','n_surgeries','n_patients']\n",
    "data_outpatient_2012.columns = col_names\n",
    "data_outpatient_2012 = data_outpatient_2012[col_order]\n",
    "\n",
    "data_outpatient_2012['spec_es'] = [i.lower() for i in data_outpatient_2012['spec_es']]\n",
    "\n",
    "print(data_outpatient_2012.head(),'\\n')\n",
    "print(data_outpatient_2012.info())\n",
    "for i in range(len(data_outpatient_2012.columns)):\n",
    "    i_name = data_outpatient_2012.iloc[:,i].name\n",
    "    i_value = sum(list(type(i)==str for i in data_outpatient_2012.iloc[:,i]))\n",
    "    print('Column', i_name, 'has', i_value, 'strings.')"
   ]
  },
  {
   "cell_type": "code",
   "execution_count": 4,
   "metadata": {},
   "outputs": [
    {
     "name": "stdout",
     "output_type": "stream",
     "text": [
      "   spec_code                       spec_es  year  doc_code  \\\n",
      "0         22  anestesiologia y reanimacion  2012  31988075   \n",
      "1         22  anestesiologia y reanimacion  2012  39779019   \n",
      "2         22  anestesiologia y reanimacion  2012  73071180   \n",
      "3        120                   cardiologia  2012  19188542   \n",
      "4        120                   cardiologia  2012  70115939   \n",
      "\n",
      "                       doc_name  n_visits  n_surgeries  n_patients  \n",
      "0  C-31988075-NOMBRE*DEL*DOCTOR        72            2          76  \n",
      "1  C-39779019-NOMBRE*DEL*DOCTOR        38            1          30  \n",
      "2  C-73071180-NOMBRE*DEL*DOCTOR       113            1         125  \n",
      "3  C-19188542-NOMBRE*DEL*DOCTOR        96           10          75  \n",
      "4  C-70115939-NOMBRE*DEL*DOCTOR       730          207         565   \n",
      "\n",
      "<class 'pandas.core.frame.DataFrame'>\n",
      "RangeIndex: 1837 entries, 0 to 1836\n",
      "Data columns (total 8 columns):\n",
      "spec_code      1837 non-null int64\n",
      "spec_es        1837 non-null object\n",
      "year           1837 non-null int64\n",
      "doc_code       1837 non-null int64\n",
      "doc_name       1837 non-null object\n",
      "n_visits       1837 non-null int64\n",
      "n_surgeries    1837 non-null int64\n",
      "n_patients     1837 non-null int64\n",
      "dtypes: int64(6), object(2)\n",
      "memory usage: 114.9+ KB\n",
      "None\n",
      "Column spec_code has 0 strings.\n",
      "Column spec_es has 1837 strings.\n",
      "Column year has 0 strings.\n",
      "Column doc_code has 0 strings.\n",
      "Column doc_name has 1837 strings.\n",
      "Column n_visits has 0 strings.\n",
      "Column n_surgeries has 0 strings.\n",
      "Column n_patients has 0 strings.\n"
     ]
    }
   ],
   "source": [
    "## Getting code for doctor, doc_code, and adding it to data_outpatient_2012.\n",
    "doc_code = []\n",
    "for i in data_outpatient_2012['doc_name']:\n",
    "    for j in i.split('-'):\n",
    "        if j.isdigit():\n",
    "            doc_code.append(int(j))\n",
    "\n",
    "## Alternative code one.\n",
    "#doc_code = [int(j) for i in data_outpatient_2012['doc_name'] for j in i.split('-') if j.isdigit()]            \n",
    "\n",
    "## Alternative code two.\n",
    "#doc_code = []\n",
    "#for i in data_outpatient_2012['doc_name']:\n",
    "#    temp = re.findall(r'\\d+', i) \n",
    "#    res = list(map(int, temp))\n",
    "#    doc_code.append(res[0])\n",
    "\n",
    "data_outpatient_2012['doc_code'] = doc_code\n",
    "col_order = ['spec_code','spec_es','year','doc_code','doc_name','n_visits','n_surgeries','n_patients']\n",
    "data_outpatient_2012 = data_outpatient_2012[col_order]\n",
    "\n",
    "print(data_outpatient_2012.head(),'\\n')\n",
    "print(data_outpatient_2012.info())\n",
    "for i in range(len(data_outpatient_2012.columns)):\n",
    "    i_name = data_outpatient_2012.iloc[:,i].name\n",
    "    i_value = sum(list(type(i)==str for i in data_outpatient_2012.iloc[:,i]))\n",
    "    print('Column', i_name, 'has', i_value, 'strings.')"
   ]
  },
  {
   "cell_type": "code",
   "execution_count": 5,
   "metadata": {},
   "outputs": [
    {
     "name": "stdout",
     "output_type": "stream",
     "text": [
      "   spec_code                       spec_es  year  doc_code  n_visits  \\\n",
      "0         22  anestesiologia y reanimacion  2012  31988075        72   \n",
      "1         22  anestesiologia y reanimacion  2012  39779019        38   \n",
      "2         22  anestesiologia y reanimacion  2012  73071180       113   \n",
      "3        120                   cardiologia  2012  19188542        96   \n",
      "4        120                   cardiologia  2012  70115939       730   \n",
      "5        120                   cardiologia  2012  70557356       238   \n",
      "6        120                   cardiologia  2012  71593942       358   \n",
      "7        120                   cardiologia  2012  71622813       254   \n",
      "8        120                   cardiologia  2012  79451776        23   \n",
      "9        130        cirugia cardiovascular  2012   8313225        32   \n",
      "\n",
      "   n_surgeries  n_patients  \n",
      "0            2          76  \n",
      "1            1          30  \n",
      "2            1         125  \n",
      "3           10          75  \n",
      "4          207         565  \n",
      "5            1         197  \n",
      "6          105         289  \n",
      "7           50         204  \n",
      "8           10          24  \n",
      "9            5          31   \n",
      "\n"
     ]
    }
   ],
   "source": [
    "## Sorting by spec_code and reseting index.\n",
    "data_outpatient_2012.drop('doc_name', axis=1, inplace=True)\n",
    "data_outpatient_2012.sort_values('spec_code', inplace=True)\n",
    "data_outpatient_2012.reset_index(drop=True, inplace=True)\n",
    "print(data_outpatient_2012.head(10),'\\n')\n",
    "\n",
    "## Saving data_outpatient_2012 as csv to data folder.\n",
    "if os.path.exists('data/data_outpatient_2012.csv'):\n",
    "    print('data_outpatient_2012.csv already exists')\n",
    "elif os.path.exists('data'):\n",
    "    file_out = 'data/data_outpatient_2012.csv'\n",
    "    data_outpatient_2012.to_csv(path_or_buf=file_out, index=False)\n",
    "else:\n",
    "    os.mkdir('data')\n",
    "    file_out = 'data/data_outpatient_2012.csv'\n",
    "    data_outpatient_2012.to_csv(path_or_buf=file_out, index=False)"
   ]
  },
  {
   "cell_type": "code",
   "execution_count": null,
   "metadata": {},
   "outputs": [],
   "source": []
  }
 ],
 "metadata": {
  "kernelspec": {
   "display_name": "Python 3",
   "language": "python",
   "name": "python3"
  },
  "language_info": {
   "codemirror_mode": {
    "name": "ipython",
    "version": 3
   },
   "file_extension": ".py",
   "mimetype": "text/x-python",
   "name": "python",
   "nbconvert_exporter": "python",
   "pygments_lexer": "ipython3",
   "version": "3.7.3"
  }
 },
 "nbformat": 4,
 "nbformat_minor": 2
}
