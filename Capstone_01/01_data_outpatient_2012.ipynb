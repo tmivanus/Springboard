{
 "cells": [
  {
   "cell_type": "code",
   "execution_count": null,
   "metadata": {},
   "outputs": [],
   "source": [
    "## Relevant modules.\n",
    "import pandas as pd\n",
    "import os\n",
    "## Optional for alternative code two (see forth cell below)\n",
    "#import re"
   ]
  },
  {
   "cell_type": "code",
   "execution_count": null,
   "metadata": {},
   "outputs": [],
   "source": [
    "## First look at the original dataframe: data_outpatient_2012_firstlook.\n",
    "file_in = 'original_data/datos_ambulatorios_2012_new.csv'\n",
    "data_outpatient_2012_firstlook = pd.read_csv(file_in)\n",
    "print(data_outpatient_2012_firstlook.head())"
   ]
  },
  {
   "cell_type": "code",
   "execution_count": null,
   "metadata": {},
   "outputs": [],
   "source": [
    "## Organizing dataframe better: data_outpatient_2012.\n",
    "data_outpatient_2012 = pd.read_csv(file_in, header=0)\n",
    "data_outpatient_2012['year'] = [2012]*len(data_outpatient_2012)\n",
    "col_names = ['doc_name','spec_code','spec_es','n_visits','n_surgeries','n_patients','year']\n",
    "col_order = ['spec_code','spec_es','year','doc_name','n_visits','n_surgeries','n_patients']\n",
    "data_outpatient_2012.columns = col_names\n",
    "data_outpatient_2012 = data_outpatient_2012[col_order]\n",
    "\n",
    "data_outpatient_2012['spec_es'] = [i.lower() for i in data_outpatient_2012['spec_es']]\n",
    "\n",
    "print(data_outpatient_2012.head(),'\\n')\n",
    "print(data_outpatient_2012.info())\n",
    "for i in range(len(data_outpatient_2012.columns)):\n",
    "    i_name = data_outpatient_2012.iloc[:,i].name\n",
    "    i_value = sum(list(type(i)==str for i in data_outpatient_2012.iloc[:,i]))\n",
    "    print('Column', i_name, 'has', i_value, 'strings.')"
   ]
  },
  {
   "cell_type": "code",
   "execution_count": null,
   "metadata": {},
   "outputs": [],
   "source": [
    "## Getting code for doctor, doc_code, and adding it to data_outpatient_2012.\n",
    "doc_code = []\n",
    "for i in data_outpatient_2012['doc_name']:\n",
    "    for j in i.split('-'):\n",
    "        if j.isdigit():\n",
    "            doc_code.append(int(j))\n",
    "\n",
    "## Alternative code one.\n",
    "#doc_code = [int(j) for i in data_outpatient_2012['doc_name'] for j in i.split('-') if j.isdigit()]            \n",
    "\n",
    "## Alternative code two.\n",
    "#doc_code = []\n",
    "#for i in data_outpatient_2012['doc_name']:\n",
    "#    temp = re.findall(r'\\d+', i) \n",
    "#    res = list(map(int, temp))\n",
    "#    doc_code.append(res[0])\n",
    "\n",
    "data_outpatient_2012['doc_code'] = doc_code\n",
    "col_order = ['spec_code','spec_es','year','doc_code','doc_name','n_visits','n_surgeries','n_patients']\n",
    "data_outpatient_2012 = data_outpatient_2012[col_order]\n",
    "\n",
    "print(data_outpatient_2012.head(),'\\n')\n",
    "print(data_outpatient_2012.info())\n",
    "for i in range(len(data_outpatient_2012.columns)):\n",
    "    i_name = data_outpatient_2012.iloc[:,i].name\n",
    "    i_value = sum(list(type(i)==str for i in data_outpatient_2012.iloc[:,i]))\n",
    "    print('Column', i_name, 'has', i_value, 'strings.')"
   ]
  },
  {
   "cell_type": "code",
   "execution_count": null,
   "metadata": {},
   "outputs": [],
   "source": [
    "## Sorting by spec_code and reseting index.\n",
    "data_outpatient_2012.sort_values('spec_code', inplace=True)\n",
    "data_outpatient_2012.reset_index(drop=True, inplace=True)\n",
    "print(data_outpatient_2012.head(10),'\\n')\n",
    "\n",
    "## Saving data_outpatient_2012 as csv to data folder.\n",
    "if os.path.exists('data/data_outpatient_2012.csv'):\n",
    "    print('data_outpatient_2012.csv already exists')\n",
    "elif os.path.exists('data'):\n",
    "    file_out = 'data/data_outpatient_2012.csv'\n",
    "    data_outpatient_2012.to_csv(path_or_buf=file_out, index=False)\n",
    "else:\n",
    "    os.mkdir('data')\n",
    "    file_out = 'data/data_outpatient_2012.csv'\n",
    "    data_outpatient_2012.to_csv(path_or_buf=file_out, index=False)"
   ]
  },
  {
   "cell_type": "code",
   "execution_count": null,
   "metadata": {},
   "outputs": [],
   "source": []
  }
 ],
 "metadata": {
  "kernelspec": {
   "display_name": "Python 3",
   "language": "python",
   "name": "python3"
  },
  "language_info": {
   "codemirror_mode": {
    "name": "ipython",
    "version": 3
   },
   "file_extension": ".py",
   "mimetype": "text/x-python",
   "name": "python",
   "nbconvert_exporter": "python",
   "pygments_lexer": "ipython3",
   "version": "3.7.3"
  }
 },
 "nbformat": 4,
 "nbformat_minor": 2
}
