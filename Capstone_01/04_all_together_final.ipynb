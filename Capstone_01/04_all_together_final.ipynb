{
 "cells": [
  {
   "cell_type": "code",
   "execution_count": 20,
   "metadata": {},
   "outputs": [],
   "source": [
    "## Relevant modules.\n",
    "import pandas as pd\n",
    "import os"
   ]
  },
  {
   "cell_type": "code",
   "execution_count": 2,
   "metadata": {},
   "outputs": [
    {
     "name": "stdout",
     "output_type": "stream",
     "text": [
      "   doc_code  spec_code                       spec_es  \\\n",
      "0  16449291         22  anestesiologia y reanimacion   \n",
      "1  31865019         22  anestesiologia y reanimacion   \n",
      "2   8682278         22  anestesiologia y reanimacion   \n",
      "3  19188542        120                   cardiologia   \n",
      "4  70115939        120                   cardiologia   \n",
      "\n",
      "                            spec_en  year  n_visits  n_surgeries  n_patients  \\\n",
      "0  anesthesiology and resuscitation  2008        59            1          67   \n",
      "1  anesthesiology and resuscitation  2008        85            2          89   \n",
      "2  anesthesiology and resuscitation  2008         6            4           6   \n",
      "3                        cardiology  2008        24            3          24   \n",
      "4                        cardiology  2008       429          104         430   \n",
      "\n",
      "   c_visit  c_surgery  \n",
      "0    21.69     205.85  \n",
      "1    21.69     205.85  \n",
      "2    21.69     205.85  \n",
      "3    29.51     209.02  \n",
      "4    29.51     209.02   \n",
      "\n",
      "<class 'pandas.core.frame.DataFrame'>\n",
      "RangeIndex: 8304 entries, 0 to 8303\n",
      "Data columns (total 10 columns):\n",
      "doc_code       8304 non-null int64\n",
      "spec_code      8304 non-null int64\n",
      "spec_es        8304 non-null object\n",
      "spec_en        8294 non-null object\n",
      "year           8304 non-null int64\n",
      "n_visits       8304 non-null int64\n",
      "n_surgeries    8304 non-null int64\n",
      "n_patients     8304 non-null int64\n",
      "c_visit        8288 non-null float64\n",
      "c_surgery      8292 non-null float64\n",
      "dtypes: float64(2), int64(6), object(2)\n",
      "memory usage: 648.8+ KB\n",
      "None\n"
     ]
    }
   ],
   "source": [
    "## Reading file.\n",
    "file = 'data/data_panel.csv'\n",
    "data_panel = pd.read_csv(file, header=0)\n",
    "print(data_panel.head(), '\\n')\n",
    "print(data_panel.info())"
   ]
  },
  {
   "cell_type": "code",
   "execution_count": 13,
   "metadata": {},
   "outputs": [
    {
     "name": "stdout",
     "output_type": "stream",
     "text": [
      "      doc_code  spec_code                                   spec_es spec_en  \\\n",
      "792   71578770        342                 ginecologia laparoscopica     NaN   \n",
      "2370  71578770        342                 ginecologia laparoscopica     NaN   \n",
      "3986  71578770        342                 ginecologia laparoscopica     NaN   \n",
      "4840  80418242        992                 ortopedia y traumatologia     NaN   \n",
      "5656  71578770        342                 ginecologia laparoscopica     NaN   \n",
      "6744  73146094        139  ciurgia de la mama y tum. de tejidos bla     NaN   \n",
      "7393  70563663        342                 ginecologia laparoscopica     NaN   \n",
      "7394  71578770        342                 ginecologia laparoscopica     NaN   \n",
      "7395  79148518        342                 ginecologia laparoscopica     NaN   \n",
      "7986  12547744        516                 ortopedia y traumatologia     NaN   \n",
      "\n",
      "      year  n_visits  n_surgeries  n_patients  c_visit  c_surgery  \n",
      "792   2008        84            7          74      NaN        NaN  \n",
      "2370  2009        68           11          74      NaN        NaN  \n",
      "3986  2010        57           34          85      NaN        NaN  \n",
      "4840  2010       150           22          88      NaN        NaN  \n",
      "5656  2011        53           38          97      NaN        NaN  \n",
      "6744  2012       158           11         129      NaN        NaN  \n",
      "7393  2012        33            5          26      NaN        NaN  \n",
      "7394  2012         3           19          30      NaN        NaN  \n",
      "7395  2012         2            1           2      NaN        NaN  \n",
      "7986  2012        39            4          24      NaN        NaN  \n"
     ]
    }
   ],
   "source": [
    "## Issue 1: errors with spec_es or spec_code.\n",
    "filter_01 = data_panel['spec_en'].isnull()\n",
    "print(data_panel[filter_01])"
   ]
  },
  {
   "cell_type": "code",
   "execution_count": 16,
   "metadata": {},
   "outputs": [
    {
     "name": "stdout",
     "output_type": "stream",
     "text": [
      "      doc_code  spec_code                       spec_es  \\\n",
      "3188  16449291         22  anestesiologia y reanimacion   \n",
      "3189   8682278         22  anestesiologia y reanimacion   \n",
      "4847  15349090         22  anestesiologia y reanimacion   \n",
      "4848  31988075         22  anestesiologia y reanimacion   \n",
      "4849  39779019         22  anestesiologia y reanimacion   \n",
      "4850   8693061         22  anestesiologia y reanimacion   \n",
      "\n",
      "                               spec_en  year  n_visits  n_surgeries  \\\n",
      "3188  anesthesiology and resuscitation  2010        84            1   \n",
      "3189  anesthesiology and resuscitation  2010        10            8   \n",
      "4847  anesthesiology and resuscitation  2011        22            3   \n",
      "4848  anesthesiology and resuscitation  2011        37            1   \n",
      "4849  anesthesiology and resuscitation  2011         5            1   \n",
      "4850  anesthesiology and resuscitation  2011         6            3   \n",
      "\n",
      "      n_patients  c_visit  c_surgery  \n",
      "3188          90      NaN        NaN  \n",
      "3189          10      NaN        NaN  \n",
      "4847          31      NaN     324.77  \n",
      "4848          43      NaN     324.77  \n",
      "4849           5      NaN     324.77  \n",
      "4850           8      NaN     324.77  \n"
     ]
    }
   ],
   "source": [
    "## Issue 2: no information about costs.\n",
    "filter_02 = data_panel['c_visit'].isnull()\n",
    "filter_03 = data_panel['c_surgery'].isnull()\n",
    "print(data_panel[~filter_01 & (filter_02 | filter_03)])"
   ]
  },
  {
   "cell_type": "code",
   "execution_count": 22,
   "metadata": {},
   "outputs": [
    {
     "name": "stdout",
     "output_type": "stream",
     "text": [
      "<class 'pandas.core.frame.DataFrame'>\n",
      "Int64Index: 8294 entries, 0 to 8303\n",
      "Data columns (total 10 columns):\n",
      "doc_code       8294 non-null int64\n",
      "spec_code      8294 non-null int64\n",
      "spec_es        8294 non-null object\n",
      "spec_en        8294 non-null object\n",
      "year           8294 non-null int64\n",
      "n_visits       8294 non-null int64\n",
      "n_surgeries    8294 non-null int64\n",
      "n_patients     8294 non-null int64\n",
      "c_visit        8288 non-null float64\n",
      "c_surgery      8292 non-null float64\n",
      "dtypes: float64(2), int64(6), object(2)\n",
      "memory usage: 712.8+ KB\n",
      "None \n",
      "\n",
      "data_panel_final.csv already exists\n"
     ]
    }
   ],
   "source": [
    "## Saving data_panel_final without issue 1: spec_es or spec_code errors.\n",
    "data_panel_final = data_panel[~filter_01]\n",
    "print(data_panel_final.info(),'\\n')\n",
    "## Saving data_panel_final as csv to data folder.\n",
    "if os.path.exists('data/data_panel_final.csv'):\n",
    "    print('data_panel_final.csv already exists')\n",
    "elif os.path.exists('data'):\n",
    "    file_out = 'data/data_panel_final.csv'\n",
    "    data_panel_final.to_csv(path_or_buf=file_out, index=False)\n",
    "else:\n",
    "    os.mkdir('data')\n",
    "    file_out = 'data/data_panel_final.csv'\n",
    "    data_panel_final.to_csv(path_or_buf=file_out, index=False)"
   ]
  },
  {
   "cell_type": "code",
   "execution_count": null,
   "metadata": {},
   "outputs": [],
   "source": []
  }
 ],
 "metadata": {
  "kernelspec": {
   "display_name": "Python 3",
   "language": "python",
   "name": "python3"
  },
  "language_info": {
   "codemirror_mode": {
    "name": "ipython",
    "version": 3
   },
   "file_extension": ".py",
   "mimetype": "text/x-python",
   "name": "python",
   "nbconvert_exporter": "python",
   "pygments_lexer": "ipython3",
   "version": "3.7.3"
  }
 },
 "nbformat": 4,
 "nbformat_minor": 2
}
