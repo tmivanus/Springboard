{
 "cells": [
  {
   "cell_type": "code",
   "execution_count": 1,
   "metadata": {},
   "outputs": [],
   "source": [
    "## Relevant modules.\n",
    "import pandas as pd\n",
    "import os"
   ]
  },
  {
   "cell_type": "code",
   "execution_count": 2,
   "metadata": {},
   "outputs": [
    {
     "name": "stdout",
     "output_type": "stream",
     "text": [
      "    ANO  COD_MEDICO  COD_ESPEC               ESPECIALIDAD  COD_DEP  \\\n",
      "0  2008    70560384        514  ORTOPEDIA Y TRAUMATOLOGIA        5   \n",
      "1  2008    16689168        514  ORTOPEDIA Y TRAUMATOLOGIA        5   \n",
      "2  2008    16761285        750                   UROLOGIA       76   \n",
      "3  2008    14884199        514  ORTOPEDIA Y TRAUMATOLOGIA        5   \n",
      "4  2008      120050        143           CIRUGIA PLASTICA        5   \n",
      "\n",
      "      DEPARTAMENTO  \n",
      "0        ANTIOQUIA  \n",
      "1        ANTIOQUIA  \n",
      "2  VALLE DEL CAUCA  \n",
      "3        ANTIOQUIA  \n",
      "4        ANTIOQUIA  \n"
     ]
    }
   ],
   "source": [
    "## First look at the original dataframe: data_dep_firstlook.\n",
    "file_in = 'original_data/datos_departamentos.csv'\n",
    "data_dep_firstlook = pd.read_csv(file_in, encoding='latin-1')\n",
    "print(data_dep_firstlook.head())"
   ]
  },
  {
   "cell_type": "code",
   "execution_count": 3,
   "metadata": {},
   "outputs": [
    {
     "name": "stdout",
     "output_type": "stream",
     "text": [
      "   spec_code                    spec_es  year  doc_code  dep_code  \\\n",
      "0        514  ortopedia y traumatologia  2008  70560384         5   \n",
      "1        514  ortopedia y traumatologia  2008  16689168         5   \n",
      "2        750                   urologia  2008  16761285        76   \n",
      "3        514  ortopedia y traumatologia  2008  14884199         5   \n",
      "4        143           cirugia plastica  2008    120050         5   \n",
      "\n",
      "        department  \n",
      "0        antioquia  \n",
      "1        antioquia  \n",
      "2  valle del cauca  \n",
      "3        antioquia  \n",
      "4        antioquia   \n",
      "\n",
      "<class 'pandas.core.frame.DataFrame'>\n",
      "RangeIndex: 8304 entries, 0 to 8303\n",
      "Data columns (total 6 columns):\n",
      "spec_code     8304 non-null int64\n",
      "spec_es       8304 non-null object\n",
      "year          8304 non-null int64\n",
      "doc_code      8304 non-null int64\n",
      "dep_code      8304 non-null int64\n",
      "department    8304 non-null object\n",
      "dtypes: int64(4), object(2)\n",
      "memory usage: 389.3+ KB\n",
      "None\n",
      "Column spec_code has 0 strings.\n",
      "Column spec_es has 8304 strings.\n",
      "Column year has 0 strings.\n",
      "Column doc_code has 0 strings.\n",
      "Column dep_code has 0 strings.\n",
      "Column department has 8304 strings.\n"
     ]
    }
   ],
   "source": [
    "## Organizing dataframe better: data_dep.\n",
    "data_dep = pd.read_csv(file_in, header=0, encoding='latin-1')\n",
    "col_names = ['year','doc_code','spec_code','spec_es','dep_code','department']\n",
    "col_order = ['spec_code','spec_es','year','doc_code','dep_code','department']\n",
    "data_dep.columns = col_names\n",
    "data_dep = data_dep[col_order]\n",
    "\n",
    "data_dep['spec_es'] = [i.lower() for i in data_dep['spec_es']]\n",
    "data_dep['department'] = [i.lower() for i in data_dep['department']]\n",
    "\n",
    "print(data_dep.head(),'\\n')\n",
    "print(data_dep.info())\n",
    "for i in range(len(data_dep.columns)):\n",
    "    i_name = data_dep.iloc[:,i].name\n",
    "    i_value = sum(list(type(i)==str for i in data_dep.iloc[:,i]))\n",
    "    print('Column', i_name, 'has', i_value, 'strings.')"
   ]
  },
  {
   "cell_type": "code",
   "execution_count": 4,
   "metadata": {},
   "outputs": [
    {
     "name": "stdout",
     "output_type": "stream",
     "text": [
      "   spec_code                       spec_es  year  doc_code  dep_code  \\\n",
      "0         22  anestesiologia y reanimacion  2010  16449291        76   \n",
      "1         22  anestesiologia y reanimacion  2011  15349090         5   \n",
      "2         22  anestesiologia y reanimacion  2009   8682278         8   \n",
      "3         22  anestesiologia y reanimacion  2009  66716838         5   \n",
      "4         22  anestesiologia y reanimacion  2009  16606260        76   \n",
      "5         22  anestesiologia y reanimacion  2011  39779019        76   \n",
      "6         22  anestesiologia y reanimacion  2011   8693061         5   \n",
      "7         22  anestesiologia y reanimacion  2008  31865019        76   \n",
      "8         22  anestesiologia y reanimacion  2008   8682278         8   \n",
      "9         22  anestesiologia y reanimacion  2009  16449291        76   \n",
      "\n",
      "        department  \n",
      "0  valle del cauca  \n",
      "1        antioquia  \n",
      "2        atlantico  \n",
      "3        antioquia  \n",
      "4  valle del cauca  \n",
      "5  valle del cauca  \n",
      "6        antioquia  \n",
      "7  valle del cauca  \n",
      "8        atlantico  \n",
      "9  valle del cauca   \n",
      "\n",
      "data/ already exists.\n",
      "data/data_departments.csv has been created.\n"
     ]
    }
   ],
   "source": [
    "## Sorting by spec_code and reseting index.\n",
    "data_dep.sort_values('spec_code', inplace=True)\n",
    "data_dep.reset_index(drop=True, inplace=True)\n",
    "print(data_dep.head(10),'\\n')\n",
    "\n",
    "## Saving data_dep as csv to data folder.\n",
    "if os.path.exists('data/data_departments.csv'):\n",
    "    print('data/data_departments.csv already exists.')\n",
    "elif os.path.exists('data'):\n",
    "    file_out = 'data/data_departments.csv'\n",
    "    data_dep.to_csv(path_or_buf=file_out, index=False)\n",
    "    print('data/ already exists.')\n",
    "    print('data/data_departments.csv has been created.')\n",
    "else:\n",
    "    os.mkdir('data')\n",
    "    file_out = 'data/data_departments.csv'\n",
    "    data_dep.to_csv(path_or_buf=file_out, index=False)\n",
    "    print('data/data_departments.csv has been created.')"
   ]
  },
  {
   "cell_type": "code",
   "execution_count": null,
   "metadata": {},
   "outputs": [],
   "source": []
  }
 ],
 "metadata": {
  "kernelspec": {
   "display_name": "Python 3",
   "language": "python",
   "name": "python3"
  },
  "language_info": {
   "codemirror_mode": {
    "name": "ipython",
    "version": 3
   },
   "file_extension": ".py",
   "mimetype": "text/x-python",
   "name": "python",
   "nbconvert_exporter": "python",
   "pygments_lexer": "ipython3",
   "version": "3.7.3"
  }
 },
 "nbformat": 4,
 "nbformat_minor": 2
}
